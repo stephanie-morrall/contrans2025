{
 "cells": [
  {
   "cell_type": "code",
   "execution_count": 1,
   "id": "479cdb33",
   "metadata": {},
   "outputs": [],
   "source": [
    "from contrans import contrans"
   ]
  },
  {
   "cell_type": "code",
   "execution_count": 2,
   "id": "ffc4fad3",
   "metadata": {},
   "outputs": [],
   "source": [
    "ct = contrans()"
   ]
  },
  {
   "cell_type": "code",
   "execution_count": 3,
   "id": "9aede880",
   "metadata": {},
   "outputs": [],
   "source": [
    "ct.get_crosswalk()"
   ]
  },
  {
   "cell_type": "code",
   "execution_count": 4,
   "id": "f54bd4c2",
   "metadata": {},
   "outputs": [
    {
     "data": {
      "text/html": [
       "<div>\n",
       "<style scoped>\n",
       "    .dataframe tbody tr th:only-of-type {\n",
       "        vertical-align: middle;\n",
       "    }\n",
       "\n",
       "    .dataframe tbody tr th {\n",
       "        vertical-align: top;\n",
       "    }\n",
       "\n",
       "    .dataframe thead th {\n",
       "        text-align: right;\n",
       "    }\n",
       "</style>\n",
       "<table border=\"1\" class=\"dataframe\">\n",
       "  <thead>\n",
       "    <tr style=\"text-align: right;\">\n",
       "      <th></th>\n",
       "      <th>bioname</th>\n",
       "      <th>chamber</th>\n",
       "      <th>left_right_ideology</th>\n",
       "      <th>state_abbrev</th>\n",
       "      <th>district_code</th>\n",
       "      <th>icpsr</th>\n",
       "      <th>bioguide_id</th>\n",
       "      <th>party</th>\n",
       "    </tr>\n",
       "  </thead>\n",
       "  <tbody>\n",
       "    <tr>\n",
       "      <th>60</th>\n",
       "      <td>FONG, Vince</td>\n",
       "      <td>House</td>\n",
       "      <td>0.451</td>\n",
       "      <td>CA</td>\n",
       "      <td>20</td>\n",
       "      <td>22378</td>\n",
       "      <td>F000480</td>\n",
       "      <td>Republican</td>\n",
       "    </tr>\n",
       "  </tbody>\n",
       "</table>\n",
       "</div>"
      ],
      "text/plain": [
       "        bioname chamber  left_right_ideology state_abbrev  district_code  \\\n",
       "60  FONG, Vince   House                0.451           CA             20   \n",
       "\n",
       "    icpsr bioguide_id       party  \n",
       "60  22378     F000480  Republican  "
      ]
     },
     "execution_count": 4,
     "metadata": {},
     "output_type": "execute_result"
    }
   ],
   "source": [
    "ct.get_member_info(chamber = 'House', state = 'CA', district = \"20\")"
   ]
  },
  {
   "cell_type": "code",
   "execution_count": 5,
   "id": "81eb1a0d",
   "metadata": {},
   "outputs": [],
   "source": [
    "import pandas as pd\n",
    "ideology = pd.read_csv('data/ideology.csv')\n"
   ]
  },
  {
   "cell_type": "code",
   "execution_count": 6,
   "id": "19a653ba",
   "metadata": {},
   "outputs": [
    {
     "data": {
      "text/html": [
       "<div>\n",
       "<style scoped>\n",
       "    .dataframe tbody tr th:only-of-type {\n",
       "        vertical-align: middle;\n",
       "    }\n",
       "\n",
       "    .dataframe tbody tr th {\n",
       "        vertical-align: top;\n",
       "    }\n",
       "\n",
       "    .dataframe thead th {\n",
       "        text-align: right;\n",
       "    }\n",
       "</style>\n",
       "<table border=\"1\" class=\"dataframe\">\n",
       "  <thead>\n",
       "    <tr style=\"text-align: right;\">\n",
       "      <th></th>\n",
       "      <th>comparison_member</th>\n",
       "      <th>agree</th>\n",
       "    </tr>\n",
       "  </thead>\n",
       "  <tbody>\n",
       "    <tr>\n",
       "      <th>156787</th>\n",
       "      <td>JOHNSON, Mike</td>\n",
       "      <td>0.947368</td>\n",
       "    </tr>\n",
       "    <tr>\n",
       "      <th>156711</th>\n",
       "      <td>AMODEI, Mark E.</td>\n",
       "      <td>0.939502</td>\n",
       "    </tr>\n",
       "    <tr>\n",
       "      <th>156700</th>\n",
       "      <td>WOMACK, Steve</td>\n",
       "      <td>0.932384</td>\n",
       "    </tr>\n",
       "    <tr>\n",
       "      <th>156776</th>\n",
       "      <td>BERGMAN, John</td>\n",
       "      <td>0.932384</td>\n",
       "    </tr>\n",
       "    <tr>\n",
       "      <th>156708</th>\n",
       "      <td>FLEISCHMANN, Chuck</td>\n",
       "      <td>0.932384</td>\n",
       "    </tr>\n",
       "    <tr>\n",
       "      <th>...</th>\n",
       "      <td>...</td>\n",
       "      <td>...</td>\n",
       "    </tr>\n",
       "    <tr>\n",
       "      <th>156702</th>\n",
       "      <td>WILSON, Frederica</td>\n",
       "      <td>0.238434</td>\n",
       "    </tr>\n",
       "    <tr>\n",
       "      <th>156691</th>\n",
       "      <td>CONNOLLY, Gerald E. (Gerry)</td>\n",
       "      <td>0.227941</td>\n",
       "    </tr>\n",
       "    <tr>\n",
       "      <th>156845</th>\n",
       "      <td>SHERRILL, Mikie</td>\n",
       "      <td>0.174377</td>\n",
       "    </tr>\n",
       "    <tr>\n",
       "      <th>157050</th>\n",
       "      <td>WALKINSHAW, James R.</td>\n",
       "      <td>0.157895</td>\n",
       "    </tr>\n",
       "    <tr>\n",
       "      <th>156652</th>\n",
       "      <td>GRIJALVA, Raúl M.</td>\n",
       "      <td>0.000000</td>\n",
       "    </tr>\n",
       "  </tbody>\n",
       "</table>\n",
       "<p>442 rows × 2 columns</p>\n",
       "</div>"
      ],
      "text/plain": [
       "                  comparison_member     agree\n",
       "156787                JOHNSON, Mike  0.947368\n",
       "156711              AMODEI, Mark E.  0.939502\n",
       "156700                WOMACK, Steve  0.932384\n",
       "156776                BERGMAN, John  0.932384\n",
       "156708           FLEISCHMANN, Chuck  0.932384\n",
       "...                             ...       ...\n",
       "156702            WILSON, Frederica  0.238434\n",
       "156691  CONNOLLY, Gerald E. (Gerry)  0.227941\n",
       "156845              SHERRILL, Mikie  0.174377\n",
       "157050         WALKINSHAW, James R.  0.157895\n",
       "156652            GRIJALVA, Raúl M.  0.000000\n",
       "\n",
       "[442 rows x 2 columns]"
      ]
     },
     "execution_count": 6,
     "metadata": {},
     "output_type": "execute_result"
    }
   ],
   "source": [
    "memberinfo = ct.get_member_info(chamber = 'House', state = 'CA', district = \"20\")\n",
    "ct.vote_similarity_to_member(memberinfo)"
   ]
  },
  {
   "cell_type": "code",
   "execution_count": null,
   "id": "30086aef",
   "metadata": {},
   "outputs": [],
   "source": []
  }
 ],
 "metadata": {
  "kernelspec": {
   "display_name": "ds6600",
   "language": "python",
   "name": "python3"
  },
  "language_info": {
   "codemirror_mode": {
    "name": "ipython",
    "version": 3
   },
   "file_extension": ".py",
   "mimetype": "text/x-python",
   "name": "python",
   "nbconvert_exporter": "python",
   "pygments_lexer": "ipython3",
   "version": "3.13.5"
  }
 },
 "nbformat": 4,
 "nbformat_minor": 5
}
