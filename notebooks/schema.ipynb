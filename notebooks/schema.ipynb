{
 "cells": [
  {
   "cell_type": "code",
   "execution_count": 841,
   "id": "b4d0b094",
   "metadata": {},
   "outputs": [],
   "source": [
    "import numpy as np\n",
    "import pandas as pd"
   ]
  },
  {
   "cell_type": "markdown",
   "id": "9c1d0622",
   "metadata": {},
   "source": [
    "Answer these question:\n",
    "\n",
    "\n",
    "\n",
    "2. For every CSV, should it constitute a table in the 3NF database? Or should it be broken into multiple tables or combined with another CSV?\n",
    "3. Are any any columns redundant with columns elsewhere (maybe in different CSV), so that they can be removed?"
   ]
  },
  {
   "cell_type": "code",
   "execution_count": 842,
   "id": "d0aa3e26",
   "metadata": {},
   "outputs": [],
   "source": [
    "bill_summaries = pd.read_csv('../data/bill_summaries.csv')\n",
    "bioinfo = pd.read_csv('../data/bioinfo.csv')\n",
    "fec_ids = pd.read_csv('../data/fec_ids.csv')\n",
    "ideology = pd.read_csv('../data/ideology.csv')\n",
    "sponsored_legislation = pd.read_csv('../data/sponsored_legislation.csv')\n",
    "terms = pd.read_csv('../data/terms.csv')\n",
    "vote_compare = pd.read_csv('../data/vote_compare.csv')\n",
    "contrib = pd.read_csv('../data/contrib.csv')"
   ]
  },
  {
   "cell_type": "markdown",
   "id": "5a5e50ab",
   "metadata": {},
   "source": [
    "1. Does every CSV file have a primary key? If so, what is it?\n"
   ]
  },
  {
   "cell_type": "code",
   "execution_count": 843,
   "id": "44931134",
   "metadata": {},
   "outputs": [
    {
     "data": {
      "text/plain": [
       "Index(['actionDate', 'actionDesc', 'currentChamber', 'currentChamberCode',\n",
       "       'lastSummaryUpdateDate', 'text', 'updateDate', 'versionCode',\n",
       "       'bill.congress', 'bill.number', 'bill.originChamber',\n",
       "       'bill.originChamberCode', 'bill.title', 'bill.type',\n",
       "       'bill.updateDateIncludingText', 'bill.url'],\n",
       "      dtype='object')"
      ]
     },
     "execution_count": 843,
     "metadata": {},
     "output_type": "execute_result"
    }
   ],
   "source": [
    "bill_summaries.columns\n"
   ]
  },
  {
   "cell_type": "code",
   "execution_count": 844,
   "id": "6f535ab6",
   "metadata": {},
   "outputs": [
    {
     "data": {
      "text/plain": [
       "False    2735\n",
       "True       16\n",
       "Name: count, dtype: int64"
      ]
     },
     "execution_count": 844,
     "metadata": {},
     "output_type": "execute_result"
    }
   ],
   "source": [
    "bill_summaries[['bill.type', 'bill.number']].duplicated().value_counts()"
   ]
  },
  {
   "cell_type": "code",
   "execution_count": 845,
   "id": "5161e3df",
   "metadata": {},
   "outputs": [
    {
     "data": {
      "text/html": [
       "<div>\n",
       "<style scoped>\n",
       "    .dataframe tbody tr th:only-of-type {\n",
       "        vertical-align: middle;\n",
       "    }\n",
       "\n",
       "    .dataframe tbody tr th {\n",
       "        vertical-align: top;\n",
       "    }\n",
       "\n",
       "    .dataframe thead th {\n",
       "        text-align: right;\n",
       "    }\n",
       "</style>\n",
       "<table border=\"1\" class=\"dataframe\">\n",
       "  <thead>\n",
       "    <tr style=\"text-align: right;\">\n",
       "      <th></th>\n",
       "      <th>actionDate</th>\n",
       "      <th>actionDesc</th>\n",
       "      <th>currentChamber</th>\n",
       "      <th>currentChamberCode</th>\n",
       "      <th>lastSummaryUpdateDate</th>\n",
       "      <th>text</th>\n",
       "      <th>updateDate</th>\n",
       "      <th>versionCode</th>\n",
       "      <th>bill.congress</th>\n",
       "      <th>bill.number</th>\n",
       "      <th>bill.originChamber</th>\n",
       "      <th>bill.originChamberCode</th>\n",
       "      <th>bill.title</th>\n",
       "      <th>bill.type</th>\n",
       "      <th>bill.updateDateIncludingText</th>\n",
       "      <th>bill.url</th>\n",
       "    </tr>\n",
       "  </thead>\n",
       "  <tbody>\n",
       "    <tr>\n",
       "      <th>29</th>\n",
       "      <td>2025-07-04</td>\n",
       "      <td>Public Law</td>\n",
       "      <td>Unknown</td>\n",
       "      <td>Unknown</td>\n",
       "      <td>2025-10-06T21:40:39Z</td>\n",
       "      <td>&lt;p&gt;This act reduces taxes, reduces or increase...</td>\n",
       "      <td>2025-10-06T21:49:14Z</td>\n",
       "      <td>49</td>\n",
       "      <td>119</td>\n",
       "      <td>1</td>\n",
       "      <td>House</td>\n",
       "      <td>H</td>\n",
       "      <td>One Big Beautiful Bill Act</td>\n",
       "      <td>HR</td>\n",
       "      <td>2025-10-09</td>\n",
       "      <td>https://api.congress.gov/v3/bill/119/hr/1?form...</td>\n",
       "    </tr>\n",
       "    <tr>\n",
       "      <th>37</th>\n",
       "      <td>2025-07-25</td>\n",
       "      <td>Introduced in House</td>\n",
       "      <td>House</td>\n",
       "      <td>H</td>\n",
       "      <td>2025-10-03T13:52:59Z</td>\n",
       "      <td>&lt;p&gt;&lt;strong&gt;National Security, Department of St...</td>\n",
       "      <td>2025-10-03T13:57:42Z</td>\n",
       "      <td>0</td>\n",
       "      <td>119</td>\n",
       "      <td>4779</td>\n",
       "      <td>House</td>\n",
       "      <td>H</td>\n",
       "      <td>National Security, Department of State, and Re...</td>\n",
       "      <td>HR</td>\n",
       "      <td>2025-10-03</td>\n",
       "      <td>https://api.congress.gov/v3/bill/119/hr/4779?f...</td>\n",
       "    </tr>\n",
       "    <tr>\n",
       "      <th>108</th>\n",
       "      <td>2025-09-12</td>\n",
       "      <td>Reported to House</td>\n",
       "      <td>House</td>\n",
       "      <td>H</td>\n",
       "      <td>2025-09-22T14:53:55Z</td>\n",
       "      <td>&lt;p&gt;&lt;strong&gt;Commerce, Justice, Science, and Rel...</td>\n",
       "      <td>2025-09-22T14:57:54Z</td>\n",
       "      <td>7</td>\n",
       "      <td>119</td>\n",
       "      <td>5342</td>\n",
       "      <td>House</td>\n",
       "      <td>H</td>\n",
       "      <td>Commerce, Justice, Science, and Related Agenci...</td>\n",
       "      <td>HR</td>\n",
       "      <td>2025-09-22</td>\n",
       "      <td>https://api.congress.gov/v3/bill/119/hr/5342?f...</td>\n",
       "    </tr>\n",
       "    <tr>\n",
       "      <th>112</th>\n",
       "      <td>2025-05-20</td>\n",
       "      <td>Reported to House</td>\n",
       "      <td>House</td>\n",
       "      <td>H</td>\n",
       "      <td>2025-09-22T12:34:08Z</td>\n",
       "      <td>&lt;p&gt;&lt;strong&gt;One Big Beautiful Bill Act&lt;/strong&gt;...</td>\n",
       "      <td>2025-09-22T12:35:46Z</td>\n",
       "      <td>7</td>\n",
       "      <td>119</td>\n",
       "      <td>1</td>\n",
       "      <td>House</td>\n",
       "      <td>H</td>\n",
       "      <td>One Big Beautiful Bill Act</td>\n",
       "      <td>HR</td>\n",
       "      <td>2025-10-09</td>\n",
       "      <td>https://api.congress.gov/v3/bill/119/hr/1?form...</td>\n",
       "    </tr>\n",
       "    <tr>\n",
       "      <th>147</th>\n",
       "      <td>2025-03-06</td>\n",
       "      <td>Introduced in Senate</td>\n",
       "      <td>Senate</td>\n",
       "      <td>S</td>\n",
       "      <td>2025-09-17T15:15:53Z</td>\n",
       "      <td>&lt;p&gt;This resolution designates March 6, 2025, a...</td>\n",
       "      <td>2025-09-17T15:16:59Z</td>\n",
       "      <td>0</td>\n",
       "      <td>119</td>\n",
       "      <td>118</td>\n",
       "      <td>Senate</td>\n",
       "      <td>S</td>\n",
       "      <td>A resolution designating March 6, 2025, as \"Na...</td>\n",
       "      <td>SRES</td>\n",
       "      <td>2025-09-17</td>\n",
       "      <td>https://api.congress.gov/v3/bill/119/sres/118?...</td>\n",
       "    </tr>\n",
       "    <tr>\n",
       "      <th>806</th>\n",
       "      <td>2025-03-18</td>\n",
       "      <td>Introduced in House</td>\n",
       "      <td>House</td>\n",
       "      <td>H</td>\n",
       "      <td>2025-06-24T16:26:37Z</td>\n",
       "      <td>&lt;p&gt;This bill designates the community-based ou...</td>\n",
       "      <td>2025-06-24T16:26:43Z</td>\n",
       "      <td>0</td>\n",
       "      <td>119</td>\n",
       "      <td>2170</td>\n",
       "      <td>House</td>\n",
       "      <td>H</td>\n",
       "      <td>To name the Department of Veterans Affairs com...</td>\n",
       "      <td>HR</td>\n",
       "      <td>2025-09-17</td>\n",
       "      <td>https://api.congress.gov/v3/bill/119/hr/2170?f...</td>\n",
       "    </tr>\n",
       "    <tr>\n",
       "      <th>880</th>\n",
       "      <td>2025-06-12</td>\n",
       "      <td>Introduced in House</td>\n",
       "      <td>House</td>\n",
       "      <td>H</td>\n",
       "      <td>2025-06-16T15:17:11Z</td>\n",
       "      <td>&lt;p&gt;&lt;strong&gt;Military Construction, Veterans Aff...</td>\n",
       "      <td>2025-06-16T15:19:43Z</td>\n",
       "      <td>0</td>\n",
       "      <td>119</td>\n",
       "      <td>3944</td>\n",
       "      <td>House</td>\n",
       "      <td>H</td>\n",
       "      <td>Military Construction and Veterans Affairs, Ag...</td>\n",
       "      <td>HR</td>\n",
       "      <td>2025-10-09</td>\n",
       "      <td>https://api.congress.gov/v3/bill/119/hr/3944?f...</td>\n",
       "    </tr>\n",
       "    <tr>\n",
       "      <th>884</th>\n",
       "      <td>2025-05-22</td>\n",
       "      <td>Passed House</td>\n",
       "      <td>House</td>\n",
       "      <td>H</td>\n",
       "      <td>2025-06-16T13:42:01Z</td>\n",
       "      <td>&lt;p&gt;&lt;strong&gt;One Big Beautiful Bill Act&lt;/strong&gt;...</td>\n",
       "      <td>2025-06-16T14:04:44Z</td>\n",
       "      <td>53</td>\n",
       "      <td>119</td>\n",
       "      <td>1</td>\n",
       "      <td>House</td>\n",
       "      <td>H</td>\n",
       "      <td>One Big Beautiful Bill Act</td>\n",
       "      <td>HR</td>\n",
       "      <td>2025-10-09</td>\n",
       "      <td>https://api.congress.gov/v3/bill/119/hr/1?form...</td>\n",
       "    </tr>\n",
       "    <tr>\n",
       "      <th>904</th>\n",
       "      <td>2025-06-06</td>\n",
       "      <td>Introduced in House</td>\n",
       "      <td>House</td>\n",
       "      <td>H</td>\n",
       "      <td>2025-06-13T14:03:58Z</td>\n",
       "      <td>&lt;p&gt;&lt;strong&gt;Rescissions Act of 2025&lt;/strong&gt;&lt;/p...</td>\n",
       "      <td>2025-06-13T17:00:48Z</td>\n",
       "      <td>0</td>\n",
       "      <td>119</td>\n",
       "      <td>4</td>\n",
       "      <td>House</td>\n",
       "      <td>H</td>\n",
       "      <td>Rescissions Act of 2025</td>\n",
       "      <td>HR</td>\n",
       "      <td>2025-10-09</td>\n",
       "      <td>https://api.congress.gov/v3/bill/119/hr/4?form...</td>\n",
       "    </tr>\n",
       "    <tr>\n",
       "      <th>960</th>\n",
       "      <td>2025-05-13</td>\n",
       "      <td>Passed House</td>\n",
       "      <td>House</td>\n",
       "      <td>H</td>\n",
       "      <td>2025-06-10T15:52:46Z</td>\n",
       "      <td>&lt;p&gt;&lt;strong&gt;Benefits that Endure for Lifetimes ...</td>\n",
       "      <td>2025-06-10T15:53:36Z</td>\n",
       "      <td>53</td>\n",
       "      <td>119</td>\n",
       "      <td>1682</td>\n",
       "      <td>House</td>\n",
       "      <td>H</td>\n",
       "      <td>BELO’S Act</td>\n",
       "      <td>HR</td>\n",
       "      <td>2025-08-12</td>\n",
       "      <td>https://api.congress.gov/v3/bill/119/hr/1682?f...</td>\n",
       "    </tr>\n",
       "    <tr>\n",
       "      <th>1071</th>\n",
       "      <td>2025-05-20</td>\n",
       "      <td>Introduced in House</td>\n",
       "      <td>House</td>\n",
       "      <td>H</td>\n",
       "      <td>2025-05-22T17:15:29Z</td>\n",
       "      <td>&lt;p&gt;&lt;strong&gt;One Big Beautiful Bill Act&lt;/strong&gt;...</td>\n",
       "      <td>2025-05-30T18:28:45Z</td>\n",
       "      <td>0</td>\n",
       "      <td>119</td>\n",
       "      <td>1</td>\n",
       "      <td>House</td>\n",
       "      <td>H</td>\n",
       "      <td>One Big Beautiful Bill Act</td>\n",
       "      <td>HR</td>\n",
       "      <td>2025-10-09</td>\n",
       "      <td>https://api.congress.gov/v3/bill/119/hr/1?form...</td>\n",
       "    </tr>\n",
       "    <tr>\n",
       "      <th>1143</th>\n",
       "      <td>2025-01-31</td>\n",
       "      <td>Introduced in House</td>\n",
       "      <td>House</td>\n",
       "      <td>H</td>\n",
       "      <td>2025-05-23T20:34:40Z</td>\n",
       "      <td>&lt;p&gt;&lt;b&gt;Protect Our Communities from DUIs Act&lt;/b...</td>\n",
       "      <td>2025-05-23T20:34:51Z</td>\n",
       "      <td>0</td>\n",
       "      <td>119</td>\n",
       "      <td>875</td>\n",
       "      <td>House</td>\n",
       "      <td>H</td>\n",
       "      <td>Jeremy and Angel Seay and Sergeant Brandon Men...</td>\n",
       "      <td>HR</td>\n",
       "      <td>2025-10-09</td>\n",
       "      <td>https://api.congress.gov/v3/bill/119/hr/875?fo...</td>\n",
       "    </tr>\n",
       "    <tr>\n",
       "      <th>1379</th>\n",
       "      <td>2025-02-04</td>\n",
       "      <td>Introduced in Senate</td>\n",
       "      <td>Senate</td>\n",
       "      <td>S</td>\n",
       "      <td>2025-05-06T16:58:09Z</td>\n",
       "      <td>&lt;p&gt;This joint resolution nullifies the final r...</td>\n",
       "      <td>2025-05-06T17:06:57Z</td>\n",
       "      <td>0</td>\n",
       "      <td>119</td>\n",
       "      <td>13</td>\n",
       "      <td>Senate</td>\n",
       "      <td>S</td>\n",
       "      <td>A joint resolution providing for congressional...</td>\n",
       "      <td>SJRES</td>\n",
       "      <td>2025-10-09</td>\n",
       "      <td>https://api.congress.gov/v3/bill/119/sjres/13?...</td>\n",
       "    </tr>\n",
       "    <tr>\n",
       "      <th>1859</th>\n",
       "      <td>2025-02-13</td>\n",
       "      <td>Introduced in Senate</td>\n",
       "      <td>Senate</td>\n",
       "      <td>S</td>\n",
       "      <td>2025-03-28T15:10:11Z</td>\n",
       "      <td>&lt;p&gt;This joint resolution nullifies the final r...</td>\n",
       "      <td>2025-03-28T15:10:28Z</td>\n",
       "      <td>0</td>\n",
       "      <td>119</td>\n",
       "      <td>18</td>\n",
       "      <td>Senate</td>\n",
       "      <td>S</td>\n",
       "      <td>A joint resolution disapproving the rule submi...</td>\n",
       "      <td>SJRES</td>\n",
       "      <td>2025-10-15</td>\n",
       "      <td>https://api.congress.gov/v3/bill/119/sjres/18?...</td>\n",
       "    </tr>\n",
       "    <tr>\n",
       "      <th>2272</th>\n",
       "      <td>2025-02-27</td>\n",
       "      <td>Introduced in Senate</td>\n",
       "      <td>Senate</td>\n",
       "      <td>S</td>\n",
       "      <td>2025-03-04T17:08:42Z</td>\n",
       "      <td>&lt;p&gt;This joint resolution nullifies the final r...</td>\n",
       "      <td>2025-03-04T17:09:47Z</td>\n",
       "      <td>0</td>\n",
       "      <td>119</td>\n",
       "      <td>28</td>\n",
       "      <td>Senate</td>\n",
       "      <td>S</td>\n",
       "      <td>A joint resolution disapproving the rule submi...</td>\n",
       "      <td>SJRES</td>\n",
       "      <td>2025-10-14</td>\n",
       "      <td>https://api.congress.gov/v3/bill/119/sjres/28?...</td>\n",
       "    </tr>\n",
       "    <tr>\n",
       "      <th>2705</th>\n",
       "      <td>2025-01-15</td>\n",
       "      <td>Introduced in House</td>\n",
       "      <td>House</td>\n",
       "      <td>H</td>\n",
       "      <td>2025-01-27T14:02:08Z</td>\n",
       "      <td>&lt;p&gt;This joint resolution nullifies the rule ti...</td>\n",
       "      <td>2025-01-27T14:02:43Z</td>\n",
       "      <td>0</td>\n",
       "      <td>119</td>\n",
       "      <td>20</td>\n",
       "      <td>House</td>\n",
       "      <td>H</td>\n",
       "      <td>Providing for congressional disapproval under ...</td>\n",
       "      <td>HJRES</td>\n",
       "      <td>2025-10-15</td>\n",
       "      <td>https://api.congress.gov/v3/bill/119/hjres/20?...</td>\n",
       "    </tr>\n",
       "  </tbody>\n",
       "</table>\n",
       "</div>"
      ],
      "text/plain": [
       "      actionDate            actionDesc currentChamber currentChamberCode  \\\n",
       "29    2025-07-04            Public Law        Unknown            Unknown   \n",
       "37    2025-07-25   Introduced in House          House                  H   \n",
       "108   2025-09-12     Reported to House          House                  H   \n",
       "112   2025-05-20     Reported to House          House                  H   \n",
       "147   2025-03-06  Introduced in Senate         Senate                  S   \n",
       "806   2025-03-18   Introduced in House          House                  H   \n",
       "880   2025-06-12   Introduced in House          House                  H   \n",
       "884   2025-05-22          Passed House          House                  H   \n",
       "904   2025-06-06   Introduced in House          House                  H   \n",
       "960   2025-05-13          Passed House          House                  H   \n",
       "1071  2025-05-20   Introduced in House          House                  H   \n",
       "1143  2025-01-31   Introduced in House          House                  H   \n",
       "1379  2025-02-04  Introduced in Senate         Senate                  S   \n",
       "1859  2025-02-13  Introduced in Senate         Senate                  S   \n",
       "2272  2025-02-27  Introduced in Senate         Senate                  S   \n",
       "2705  2025-01-15   Introduced in House          House                  H   \n",
       "\n",
       "     lastSummaryUpdateDate                                               text  \\\n",
       "29    2025-10-06T21:40:39Z  <p>This act reduces taxes, reduces or increase...   \n",
       "37    2025-10-03T13:52:59Z  <p><strong>National Security, Department of St...   \n",
       "108   2025-09-22T14:53:55Z  <p><strong>Commerce, Justice, Science, and Rel...   \n",
       "112   2025-09-22T12:34:08Z  <p><strong>One Big Beautiful Bill Act</strong>...   \n",
       "147   2025-09-17T15:15:53Z  <p>This resolution designates March 6, 2025, a...   \n",
       "806   2025-06-24T16:26:37Z  <p>This bill designates the community-based ou...   \n",
       "880   2025-06-16T15:17:11Z  <p><strong>Military Construction, Veterans Aff...   \n",
       "884   2025-06-16T13:42:01Z  <p><strong>One Big Beautiful Bill Act</strong>...   \n",
       "904   2025-06-13T14:03:58Z  <p><strong>Rescissions Act of 2025</strong></p...   \n",
       "960   2025-06-10T15:52:46Z  <p><strong>Benefits that Endure for Lifetimes ...   \n",
       "1071  2025-05-22T17:15:29Z  <p><strong>One Big Beautiful Bill Act</strong>...   \n",
       "1143  2025-05-23T20:34:40Z  <p><b>Protect Our Communities from DUIs Act</b...   \n",
       "1379  2025-05-06T16:58:09Z  <p>This joint resolution nullifies the final r...   \n",
       "1859  2025-03-28T15:10:11Z  <p>This joint resolution nullifies the final r...   \n",
       "2272  2025-03-04T17:08:42Z  <p>This joint resolution nullifies the final r...   \n",
       "2705  2025-01-27T14:02:08Z  <p>This joint resolution nullifies the rule ti...   \n",
       "\n",
       "                updateDate  versionCode  bill.congress  bill.number  \\\n",
       "29    2025-10-06T21:49:14Z           49            119            1   \n",
       "37    2025-10-03T13:57:42Z            0            119         4779   \n",
       "108   2025-09-22T14:57:54Z            7            119         5342   \n",
       "112   2025-09-22T12:35:46Z            7            119            1   \n",
       "147   2025-09-17T15:16:59Z            0            119          118   \n",
       "806   2025-06-24T16:26:43Z            0            119         2170   \n",
       "880   2025-06-16T15:19:43Z            0            119         3944   \n",
       "884   2025-06-16T14:04:44Z           53            119            1   \n",
       "904   2025-06-13T17:00:48Z            0            119            4   \n",
       "960   2025-06-10T15:53:36Z           53            119         1682   \n",
       "1071  2025-05-30T18:28:45Z            0            119            1   \n",
       "1143  2025-05-23T20:34:51Z            0            119          875   \n",
       "1379  2025-05-06T17:06:57Z            0            119           13   \n",
       "1859  2025-03-28T15:10:28Z            0            119           18   \n",
       "2272  2025-03-04T17:09:47Z            0            119           28   \n",
       "2705  2025-01-27T14:02:43Z            0            119           20   \n",
       "\n",
       "     bill.originChamber bill.originChamberCode  \\\n",
       "29                House                      H   \n",
       "37                House                      H   \n",
       "108               House                      H   \n",
       "112               House                      H   \n",
       "147              Senate                      S   \n",
       "806               House                      H   \n",
       "880               House                      H   \n",
       "884               House                      H   \n",
       "904               House                      H   \n",
       "960               House                      H   \n",
       "1071              House                      H   \n",
       "1143              House                      H   \n",
       "1379             Senate                      S   \n",
       "1859             Senate                      S   \n",
       "2272             Senate                      S   \n",
       "2705              House                      H   \n",
       "\n",
       "                                             bill.title bill.type  \\\n",
       "29                           One Big Beautiful Bill Act        HR   \n",
       "37    National Security, Department of State, and Re...        HR   \n",
       "108   Commerce, Justice, Science, and Related Agenci...        HR   \n",
       "112                          One Big Beautiful Bill Act        HR   \n",
       "147   A resolution designating March 6, 2025, as \"Na...      SRES   \n",
       "806   To name the Department of Veterans Affairs com...        HR   \n",
       "880   Military Construction and Veterans Affairs, Ag...        HR   \n",
       "884                          One Big Beautiful Bill Act        HR   \n",
       "904                             Rescissions Act of 2025        HR   \n",
       "960                                          BELO’S Act        HR   \n",
       "1071                         One Big Beautiful Bill Act        HR   \n",
       "1143  Jeremy and Angel Seay and Sergeant Brandon Men...        HR   \n",
       "1379  A joint resolution providing for congressional...     SJRES   \n",
       "1859  A joint resolution disapproving the rule submi...     SJRES   \n",
       "2272  A joint resolution disapproving the rule submi...     SJRES   \n",
       "2705  Providing for congressional disapproval under ...     HJRES   \n",
       "\n",
       "     bill.updateDateIncludingText  \\\n",
       "29                     2025-10-09   \n",
       "37                     2025-10-03   \n",
       "108                    2025-09-22   \n",
       "112                    2025-10-09   \n",
       "147                    2025-09-17   \n",
       "806                    2025-09-17   \n",
       "880                    2025-10-09   \n",
       "884                    2025-10-09   \n",
       "904                    2025-10-09   \n",
       "960                    2025-08-12   \n",
       "1071                   2025-10-09   \n",
       "1143                   2025-10-09   \n",
       "1379                   2025-10-09   \n",
       "1859                   2025-10-15   \n",
       "2272                   2025-10-14   \n",
       "2705                   2025-10-15   \n",
       "\n",
       "                                               bill.url  \n",
       "29    https://api.congress.gov/v3/bill/119/hr/1?form...  \n",
       "37    https://api.congress.gov/v3/bill/119/hr/4779?f...  \n",
       "108   https://api.congress.gov/v3/bill/119/hr/5342?f...  \n",
       "112   https://api.congress.gov/v3/bill/119/hr/1?form...  \n",
       "147   https://api.congress.gov/v3/bill/119/sres/118?...  \n",
       "806   https://api.congress.gov/v3/bill/119/hr/2170?f...  \n",
       "880   https://api.congress.gov/v3/bill/119/hr/3944?f...  \n",
       "884   https://api.congress.gov/v3/bill/119/hr/1?form...  \n",
       "904   https://api.congress.gov/v3/bill/119/hr/4?form...  \n",
       "960   https://api.congress.gov/v3/bill/119/hr/1682?f...  \n",
       "1071  https://api.congress.gov/v3/bill/119/hr/1?form...  \n",
       "1143  https://api.congress.gov/v3/bill/119/hr/875?fo...  \n",
       "1379  https://api.congress.gov/v3/bill/119/sjres/13?...  \n",
       "1859  https://api.congress.gov/v3/bill/119/sjres/18?...  \n",
       "2272  https://api.congress.gov/v3/bill/119/sjres/28?...  \n",
       "2705  https://api.congress.gov/v3/bill/119/hjres/20?...  "
      ]
     },
     "execution_count": 845,
     "metadata": {},
     "output_type": "execute_result"
    }
   ],
   "source": [
    "bill_summaries[bill_summaries[['bill.type', 'bill.number']].duplicated()]"
   ]
  },
  {
   "cell_type": "code",
   "execution_count": 846,
   "id": "43b7659f",
   "metadata": {},
   "outputs": [
    {
     "data": {
      "text/plain": [
       "False    2751\n",
       "Name: count, dtype: int64"
      ]
     },
     "execution_count": 846,
     "metadata": {},
     "output_type": "execute_result"
    }
   ],
   "source": [
    "bill_summaries[['bill.type', 'bill.number', 'versionCode']].duplicated().value_counts()"
   ]
  },
  {
   "cell_type": "code",
   "execution_count": 847,
   "id": "0bef5703",
   "metadata": {},
   "outputs": [
    {
     "data": {
      "text/plain": [
       "Index(['bioguide_id', 'Full name', 'Chamber', 'State', 'Party', 'District',\n",
       "       'birthYear', 'image', 'Office address', 'Phone', 'Website'],\n",
       "      dtype='object')"
      ]
     },
     "execution_count": 847,
     "metadata": {},
     "output_type": "execute_result"
    }
   ],
   "source": [
    "bioinfo.columns\n"
   ]
  },
  {
   "cell_type": "code",
   "execution_count": 848,
   "id": "7d5d714a",
   "metadata": {},
   "outputs": [
    {
     "data": {
      "text/plain": [
       "bioguide_id\n",
       "False    545\n",
       "Name: count, dtype: int64"
      ]
     },
     "execution_count": 848,
     "metadata": {},
     "output_type": "execute_result"
    }
   ],
   "source": [
    "bioinfo['bioguide_id'].duplicated().value_counts()"
   ]
  },
  {
   "cell_type": "code",
   "execution_count": 849,
   "id": "02d57933",
   "metadata": {},
   "outputs": [
    {
     "data": {
      "text/plain": [
       "bioguide_id\n",
       "False    545\n",
       "Name: count, dtype: int64"
      ]
     },
     "execution_count": 849,
     "metadata": {},
     "output_type": "execute_result"
    }
   ],
   "source": [
    "fec_ids['bioguide_id'].duplicated().value_counts()\n"
   ]
  },
  {
   "cell_type": "code",
   "execution_count": 850,
   "id": "ebbb1585",
   "metadata": {},
   "outputs": [
    {
     "data": {
      "text/plain": [
       "Index(['bioguide_id', 'fec_id'], dtype='object')"
      ]
     },
     "execution_count": 850,
     "metadata": {},
     "output_type": "execute_result"
    }
   ],
   "source": [
    "fec_ids.columns"
   ]
  },
  {
   "cell_type": "code",
   "execution_count": 851,
   "id": "42ba461e",
   "metadata": {},
   "outputs": [
    {
     "data": {
      "text/plain": [
       "Index(['bioname', 'chamber', 'left_right_ideology', 'state_abbrev',\n",
       "       'district_code', 'icpsr', 'bioguide_id', 'party'],\n",
       "      dtype='object')"
      ]
     },
     "execution_count": 851,
     "metadata": {},
     "output_type": "execute_result"
    }
   ],
   "source": [
    "ideology.columns\n"
   ]
  },
  {
   "cell_type": "code",
   "execution_count": 852,
   "id": "a35d503c",
   "metadata": {},
   "outputs": [
    {
     "data": {
      "text/plain": [
       "bioguide_id\n",
       "False    545\n",
       "Name: count, dtype: int64"
      ]
     },
     "execution_count": 852,
     "metadata": {},
     "output_type": "execute_result"
    }
   ],
   "source": [
    "ideology['bioguide_id'].duplicated().value_counts()"
   ]
  },
  {
   "cell_type": "code",
   "execution_count": 853,
   "id": "05e47931",
   "metadata": {},
   "outputs": [
    {
     "data": {
      "text/plain": [
       "Index(['introducedDate', 'type', 'url', 'number', 'title', 'bioguide_id'], dtype='object')"
      ]
     },
     "execution_count": 853,
     "metadata": {},
     "output_type": "execute_result"
    }
   ],
   "source": [
    "sponsored_legislation.columns\n"
   ]
  },
  {
   "cell_type": "code",
   "execution_count": 854,
   "id": "8e0c79cc",
   "metadata": {},
   "outputs": [
    {
     "data": {
      "text/plain": [
       "bioguide_id\n",
       "True     13840\n",
       "False      539\n",
       "Name: count, dtype: int64"
      ]
     },
     "execution_count": 854,
     "metadata": {},
     "output_type": "execute_result"
    }
   ],
   "source": [
    "sponsored_legislation['bioguide_id'].duplicated().value_counts()"
   ]
  },
  {
   "cell_type": "code",
   "execution_count": 855,
   "id": "0d4a0b5f",
   "metadata": {},
   "outputs": [
    {
     "data": {
      "text/plain": [
       "False    14379\n",
       "Name: count, dtype: int64"
      ]
     },
     "execution_count": 855,
     "metadata": {},
     "output_type": "execute_result"
    }
   ],
   "source": [
    "sponsored_legislation[['url' ]].duplicated().value_counts()"
   ]
  },
  {
   "cell_type": "code",
   "execution_count": 856,
   "id": "c9f45842",
   "metadata": {},
   "outputs": [
    {
     "data": {
      "text/plain": [
       "Index(['bioguide_id', 'chamber', 'congress', 'stateCode', 'startYear',\n",
       "       'endYear', 'district'],\n",
       "      dtype='object')"
      ]
     },
     "execution_count": 856,
     "metadata": {},
     "output_type": "execute_result"
    }
   ],
   "source": [
    "terms.columns\n"
   ]
  },
  {
   "cell_type": "code",
   "execution_count": 857,
   "id": "01e2e0cd",
   "metadata": {},
   "outputs": [
    {
     "data": {
      "text/plain": [
       "False    3257\n",
       "Name: count, dtype: int64"
      ]
     },
     "execution_count": 857,
     "metadata": {},
     "output_type": "execute_result"
    }
   ],
   "source": [
    "terms[['bioguide_id','chamber', 'congress']].duplicated().value_counts()"
   ]
  },
  {
   "cell_type": "code",
   "execution_count": 858,
   "id": "d4e963ff",
   "metadata": {},
   "outputs": [
    {
     "data": {
      "text/plain": [
       "Index(['bioname', 'comparison_member', 'agree'], dtype='object')"
      ]
     },
     "execution_count": 858,
     "metadata": {},
     "output_type": "execute_result"
    }
   ],
   "source": [
    "vote_compare.columns"
   ]
  },
  {
   "cell_type": "code",
   "execution_count": 859,
   "id": "9b42d31e",
   "metadata": {},
   "outputs": [
    {
     "data": {
      "text/plain": [
       "False    206040\n",
       "Name: count, dtype: int64"
      ]
     },
     "execution_count": 859,
     "metadata": {},
     "output_type": "execute_result"
    }
   ],
   "source": [
    "vote_compare[['bioname', 'comparison_member']].duplicated().value_counts()"
   ]
  },
  {
   "cell_type": "code",
   "execution_count": 860,
   "id": "6df902ba",
   "metadata": {},
   "outputs": [
    {
     "data": {
      "text/plain": [
       "Index(['contributor_name', 'contributor_aggregate_ytd', 'memo_text', 'pdf_url',\n",
       "       'fec_committee_id', 'fec_id'],\n",
       "      dtype='object')"
      ]
     },
     "execution_count": 860,
     "metadata": {},
     "output_type": "execute_result"
    }
   ],
   "source": [
    "contrib.columns"
   ]
  },
  {
   "cell_type": "code",
   "execution_count": 861,
   "id": "ae535893",
   "metadata": {},
   "outputs": [
    {
     "data": {
      "text/plain": [
       "True     431028\n",
       "False    217665\n",
       "Name: count, dtype: int64"
      ]
     },
     "execution_count": 861,
     "metadata": {},
     "output_type": "execute_result"
    }
   ],
   "source": [
    "contrib[['pdf_url']].duplicated().value_counts()"
   ]
  },
  {
   "cell_type": "code",
   "execution_count": null,
   "id": "cffcdc7b",
   "metadata": {},
   "outputs": [],
   "source": []
  },
  {
   "cell_type": "code",
   "execution_count": 862,
   "id": "bcb8ccea",
   "metadata": {},
   "outputs": [
    {
     "data": {
      "text/html": [
       "<div>\n",
       "<style scoped>\n",
       "    .dataframe tbody tr th:only-of-type {\n",
       "        vertical-align: middle;\n",
       "    }\n",
       "\n",
       "    .dataframe tbody tr th {\n",
       "        vertical-align: top;\n",
       "    }\n",
       "\n",
       "    .dataframe thead th {\n",
       "        text-align: right;\n",
       "    }\n",
       "</style>\n",
       "<table border=\"1\" class=\"dataframe\">\n",
       "  <thead>\n",
       "    <tr style=\"text-align: right;\">\n",
       "      <th></th>\n",
       "      <th>contributor_name</th>\n",
       "      <th>contributor_aggregate_ytd</th>\n",
       "      <th>memo_text</th>\n",
       "      <th>pdf_url</th>\n",
       "      <th>fec_committee_id</th>\n",
       "      <th>fec_id</th>\n",
       "    </tr>\n",
       "  </thead>\n",
       "  <tbody>\n",
       "    <tr>\n",
       "      <th>601465</th>\n",
       "      <td>BAUER, MICHAEL</td>\n",
       "      <td>250.00</td>\n",
       "      <td>NaN</td>\n",
       "      <td>http://docquery.fec.gov/cgi-bin/fecimg/?109300...</td>\n",
       "      <td>C00457556</td>\n",
       "      <td>H0IL05096</td>\n",
       "    </tr>\n",
       "    <tr>\n",
       "      <th>600174</th>\n",
       "      <td>BIRMINGHAM, BARBARA</td>\n",
       "      <td>2000.00</td>\n",
       "      <td>NaN</td>\n",
       "      <td>http://docquery.fec.gov/cgi-bin/fecimg/?109300...</td>\n",
       "      <td>C00457556</td>\n",
       "      <td>H0IL05096</td>\n",
       "    </tr>\n",
       "    <tr>\n",
       "      <th>600548</th>\n",
       "      <td>ARENSON, PETER</td>\n",
       "      <td>1300.00</td>\n",
       "      <td>NaN</td>\n",
       "      <td>http://docquery.fec.gov/cgi-bin/fecimg/?109300...</td>\n",
       "      <td>C00457556</td>\n",
       "      <td>H0IL05096</td>\n",
       "    </tr>\n",
       "    <tr>\n",
       "      <th>600547</th>\n",
       "      <td>BODEN, HANS</td>\n",
       "      <td>2300.00</td>\n",
       "      <td>NaN</td>\n",
       "      <td>http://docquery.fec.gov/cgi-bin/fecimg/?109300...</td>\n",
       "      <td>C00457556</td>\n",
       "      <td>H0IL05096</td>\n",
       "    </tr>\n",
       "    <tr>\n",
       "      <th>602341</th>\n",
       "      <td>CAMPBELL, THOMAS</td>\n",
       "      <td>400.00</td>\n",
       "      <td>NaN</td>\n",
       "      <td>http://docquery.fec.gov/cgi-bin/fecimg/?109300...</td>\n",
       "      <td>C00457556</td>\n",
       "      <td>H0IL05096</td>\n",
       "    </tr>\n",
       "    <tr>\n",
       "      <th>601464</th>\n",
       "      <td>BOND, ROBERT</td>\n",
       "      <td>250.00</td>\n",
       "      <td>NaN</td>\n",
       "      <td>http://docquery.fec.gov/cgi-bin/fecimg/?109300...</td>\n",
       "      <td>C00457556</td>\n",
       "      <td>H0IL05096</td>\n",
       "    </tr>\n",
       "    <tr>\n",
       "      <th>595600</th>\n",
       "      <td>CARNEY, JACK</td>\n",
       "      <td>3400.00</td>\n",
       "      <td>NaN</td>\n",
       "      <td>http://docquery.fec.gov/cgi-bin/fecimg/?109300...</td>\n",
       "      <td>C00457556</td>\n",
       "      <td>H0IL05096</td>\n",
       "    </tr>\n",
       "    <tr>\n",
       "      <th>596377</th>\n",
       "      <td>COHAN, DANIEL</td>\n",
       "      <td>1500.00</td>\n",
       "      <td>NaN</td>\n",
       "      <td>http://docquery.fec.gov/cgi-bin/fecimg/?109300...</td>\n",
       "      <td>C00457556</td>\n",
       "      <td>H0IL05096</td>\n",
       "    </tr>\n",
       "    <tr>\n",
       "      <th>598617</th>\n",
       "      <td>CHEROKEE INDIANS, EASTERN BAND OF</td>\n",
       "      <td>1000.00</td>\n",
       "      <td>NaN</td>\n",
       "      <td>http://docquery.fec.gov/cgi-bin/fecimg/?109300...</td>\n",
       "      <td>C00457556</td>\n",
       "      <td>H0IL05096</td>\n",
       "    </tr>\n",
       "    <tr>\n",
       "      <th>602344</th>\n",
       "      <td>CONLON, KEVIN J.</td>\n",
       "      <td>385.81</td>\n",
       "      <td>* IN-KIND: BAGELS &amp; JUICE FOR BREAKFAST</td>\n",
       "      <td>http://docquery.fec.gov/cgi-bin/fecimg/?109300...</td>\n",
       "      <td>C00457556</td>\n",
       "      <td>H0IL05096</td>\n",
       "    </tr>\n",
       "  </tbody>\n",
       "</table>\n",
       "</div>"
      ],
      "text/plain": [
       "                         contributor_name  contributor_aggregate_ytd  \\\n",
       "601465                     BAUER, MICHAEL                     250.00   \n",
       "600174                BIRMINGHAM, BARBARA                    2000.00   \n",
       "600548                     ARENSON, PETER                    1300.00   \n",
       "600547                        BODEN, HANS                    2300.00   \n",
       "602341                   CAMPBELL, THOMAS                     400.00   \n",
       "601464                       BOND, ROBERT                     250.00   \n",
       "595600                       CARNEY, JACK                    3400.00   \n",
       "596377                      COHAN, DANIEL                    1500.00   \n",
       "598617  CHEROKEE INDIANS, EASTERN BAND OF                    1000.00   \n",
       "602344                   CONLON, KEVIN J.                     385.81   \n",
       "\n",
       "                                      memo_text  \\\n",
       "601465                                      NaN   \n",
       "600174                                      NaN   \n",
       "600548                                      NaN   \n",
       "600547                                      NaN   \n",
       "602341                                      NaN   \n",
       "601464                                      NaN   \n",
       "595600                                      NaN   \n",
       "596377                                      NaN   \n",
       "598617                                      NaN   \n",
       "602344  * IN-KIND: BAGELS & JUICE FOR BREAKFAST   \n",
       "\n",
       "                                                  pdf_url fec_committee_id  \\\n",
       "601465  http://docquery.fec.gov/cgi-bin/fecimg/?109300...        C00457556   \n",
       "600174  http://docquery.fec.gov/cgi-bin/fecimg/?109300...        C00457556   \n",
       "600548  http://docquery.fec.gov/cgi-bin/fecimg/?109300...        C00457556   \n",
       "600547  http://docquery.fec.gov/cgi-bin/fecimg/?109300...        C00457556   \n",
       "602341  http://docquery.fec.gov/cgi-bin/fecimg/?109300...        C00457556   \n",
       "601464  http://docquery.fec.gov/cgi-bin/fecimg/?109300...        C00457556   \n",
       "595600  http://docquery.fec.gov/cgi-bin/fecimg/?109300...        C00457556   \n",
       "596377  http://docquery.fec.gov/cgi-bin/fecimg/?109300...        C00457556   \n",
       "598617  http://docquery.fec.gov/cgi-bin/fecimg/?109300...        C00457556   \n",
       "602344  http://docquery.fec.gov/cgi-bin/fecimg/?109300...        C00457556   \n",
       "\n",
       "           fec_id  \n",
       "601465  H0IL05096  \n",
       "600174  H0IL05096  \n",
       "600548  H0IL05096  \n",
       "600547  H0IL05096  \n",
       "602341  H0IL05096  \n",
       "601464  H0IL05096  \n",
       "595600  H0IL05096  \n",
       "596377  H0IL05096  \n",
       "598617  H0IL05096  \n",
       "602344  H0IL05096  "
      ]
     },
     "execution_count": 862,
     "metadata": {},
     "output_type": "execute_result"
    }
   ],
   "source": [
    "contrib.loc[contrib.duplicated('pdf_url', keep = False)].sort_values('pdf_url').head(10)"
   ]
  },
  {
   "cell_type": "markdown",
   "id": "6706564c",
   "metadata": {},
   "source": []
  },
  {
   "cell_type": "code",
   "execution_count": 863,
   "id": "6043387c",
   "metadata": {},
   "outputs": [],
   "source": [
    "contrib = contrib.drop_duplicates()"
   ]
  },
  {
   "cell_type": "code",
   "execution_count": 864,
   "id": "8ba63102",
   "metadata": {},
   "outputs": [
    {
     "data": {
      "text/plain": [
       "True     378715\n",
       "False    217665\n",
       "Name: count, dtype: int64"
      ]
     },
     "execution_count": 864,
     "metadata": {},
     "output_type": "execute_result"
    }
   ],
   "source": [
    "contrib[['pdf_url']].duplicated().value_counts()"
   ]
  },
  {
   "cell_type": "markdown",
   "id": "ee70124f",
   "metadata": {},
   "source": [
    "2. Do any of the tables need to become multiple tables, or combined into one table?\n",
    "\n",
    "Should be combined into one table (share the same primary key): bioinfor, fec_ids, ideology\n"
   ]
  },
  {
   "cell_type": "code",
   "execution_count": 865,
   "id": "cd3ede5e",
   "metadata": {},
   "outputs": [],
   "source": [
    "members = pd.merge(bioinfo, fec_ids,\n",
    "                   on = 'bioguide_id',\n",
    "                   how = 'outer',\n",
    "                   validate = 'one_to_one',\n",
    "                   indicator = 'matched')"
   ]
  },
  {
   "cell_type": "code",
   "execution_count": 866,
   "id": "be05585d",
   "metadata": {},
   "outputs": [
    {
     "data": {
      "text/plain": [
       "matched\n",
       "both          545\n",
       "left_only       0\n",
       "right_only      0\n",
       "Name: count, dtype: int64"
      ]
     },
     "execution_count": 866,
     "metadata": {},
     "output_type": "execute_result"
    }
   ],
   "source": [
    "members['matched'].value_counts()"
   ]
  },
  {
   "cell_type": "code",
   "execution_count": 867,
   "id": "d5a5bde8",
   "metadata": {},
   "outputs": [],
   "source": [
    "members = members.drop('matched', axis = 1)"
   ]
  },
  {
   "cell_type": "code",
   "execution_count": 868,
   "id": "7f94158c",
   "metadata": {},
   "outputs": [],
   "source": [
    "members = pd.merge(members, ideology, \n",
    "                   on = 'bioguide_id',\n",
    "                   how = 'outer',\n",
    "                   validate = 'one_to_one',\n",
    "                   indicator = 'matched')"
   ]
  },
  {
   "cell_type": "code",
   "execution_count": 869,
   "id": "e51a492e",
   "metadata": {},
   "outputs": [
    {
     "data": {
      "text/plain": [
       "matched\n",
       "both          545\n",
       "left_only       0\n",
       "right_only      0\n",
       "Name: count, dtype: int64"
      ]
     },
     "execution_count": 869,
     "metadata": {},
     "output_type": "execute_result"
    }
   ],
   "source": [
    "members['matched'].value_counts()"
   ]
  },
  {
   "cell_type": "code",
   "execution_count": 870,
   "id": "2cc6cb37",
   "metadata": {},
   "outputs": [],
   "source": [
    "members = members.drop('matched', axis = 1)"
   ]
  },
  {
   "cell_type": "code",
   "execution_count": 871,
   "id": "924f45e4",
   "metadata": {},
   "outputs": [
    {
     "data": {
      "text/plain": [
       "Index(['bioguide_id', 'Full name', 'Chamber', 'State', 'Party', 'District',\n",
       "       'birthYear', 'image', 'Office address', 'Phone', 'Website', 'fec_id',\n",
       "       'bioname', 'chamber', 'left_right_ideology', 'state_abbrev',\n",
       "       'district_code', 'icpsr', 'party'],\n",
       "      dtype='object')"
      ]
     },
     "execution_count": 871,
     "metadata": {},
     "output_type": "execute_result"
    }
   ],
   "source": [
    "members.columns"
   ]
  },
  {
   "cell_type": "code",
   "execution_count": 872,
   "id": "afb4e493",
   "metadata": {},
   "outputs": [
    {
     "data": {
      "text/html": [
       "<div>\n",
       "<style scoped>\n",
       "    .dataframe tbody tr th:only-of-type {\n",
       "        vertical-align: middle;\n",
       "    }\n",
       "\n",
       "    .dataframe tbody tr th {\n",
       "        vertical-align: top;\n",
       "    }\n",
       "\n",
       "    .dataframe thead th {\n",
       "        text-align: right;\n",
       "    }\n",
       "</style>\n",
       "<table border=\"1\" class=\"dataframe\">\n",
       "  <thead>\n",
       "    <tr style=\"text-align: right;\">\n",
       "      <th></th>\n",
       "      <th>0</th>\n",
       "      <th>1</th>\n",
       "      <th>2</th>\n",
       "    </tr>\n",
       "  </thead>\n",
       "  <tbody>\n",
       "    <tr>\n",
       "      <th>bioguide_id</th>\n",
       "      <td>A000055</td>\n",
       "      <td>A000148</td>\n",
       "      <td>A000369</td>\n",
       "    </tr>\n",
       "    <tr>\n",
       "      <th>Full name</th>\n",
       "      <td>Robert B. Aderholt</td>\n",
       "      <td>Jake Auchincloss</td>\n",
       "      <td>Mark E. Amodei</td>\n",
       "    </tr>\n",
       "    <tr>\n",
       "      <th>Chamber</th>\n",
       "      <td>House of Representatives</td>\n",
       "      <td>House of Representatives</td>\n",
       "      <td>House of Representatives</td>\n",
       "    </tr>\n",
       "    <tr>\n",
       "      <th>State</th>\n",
       "      <td>Alabama</td>\n",
       "      <td>Massachusetts</td>\n",
       "      <td>Nevada</td>\n",
       "    </tr>\n",
       "    <tr>\n",
       "      <th>Party</th>\n",
       "      <td>Republican</td>\n",
       "      <td>Democratic</td>\n",
       "      <td>Republican</td>\n",
       "    </tr>\n",
       "    <tr>\n",
       "      <th>District</th>\n",
       "      <td>4.0</td>\n",
       "      <td>4.0</td>\n",
       "      <td>2.0</td>\n",
       "    </tr>\n",
       "    <tr>\n",
       "      <th>birthYear</th>\n",
       "      <td>1965.0</td>\n",
       "      <td>1988.0</td>\n",
       "      <td>1958.0</td>\n",
       "    </tr>\n",
       "    <tr>\n",
       "      <th>image</th>\n",
       "      <td>https://www.congress.gov/img/member/a000055_20...</td>\n",
       "      <td>https://www.congress.gov/img/member/67817e391f...</td>\n",
       "      <td>https://www.congress.gov/img/member/a000369_20...</td>\n",
       "    </tr>\n",
       "    <tr>\n",
       "      <th>Office address</th>\n",
       "      <td>272 Cannon House Office Building, Washington, ...</td>\n",
       "      <td>1524 Longworth House Office Building, Washingt...</td>\n",
       "      <td>104 Cannon House Office Building, Washington, ...</td>\n",
       "    </tr>\n",
       "    <tr>\n",
       "      <th>Phone</th>\n",
       "      <td>(202) 225-4876</td>\n",
       "      <td>(202) 225-5931</td>\n",
       "      <td>(202) 225-6155</td>\n",
       "    </tr>\n",
       "    <tr>\n",
       "      <th>Website</th>\n",
       "      <td>https://aderholt.house.gov/</td>\n",
       "      <td>https://auchincloss.house.gov</td>\n",
       "      <td>https://amodei.house.gov</td>\n",
       "    </tr>\n",
       "    <tr>\n",
       "      <th>fec_id</th>\n",
       "      <td>H6AL04098</td>\n",
       "      <td>H0MA04192</td>\n",
       "      <td>H2NV02395</td>\n",
       "    </tr>\n",
       "    <tr>\n",
       "      <th>bioname</th>\n",
       "      <td>ADERHOLT, Robert</td>\n",
       "      <td>AUCHINCLOSS, Jake</td>\n",
       "      <td>AMODEI, Mark E.</td>\n",
       "    </tr>\n",
       "    <tr>\n",
       "      <th>chamber</th>\n",
       "      <td>House</td>\n",
       "      <td>House</td>\n",
       "      <td>House</td>\n",
       "    </tr>\n",
       "    <tr>\n",
       "      <th>left_right_ideology</th>\n",
       "      <td>0.405</td>\n",
       "      <td>-0.288</td>\n",
       "      <td>0.384</td>\n",
       "    </tr>\n",
       "    <tr>\n",
       "      <th>state_abbrev</th>\n",
       "      <td>AL</td>\n",
       "      <td>MA</td>\n",
       "      <td>NV</td>\n",
       "    </tr>\n",
       "    <tr>\n",
       "      <th>district_code</th>\n",
       "      <td>4</td>\n",
       "      <td>4</td>\n",
       "      <td>2</td>\n",
       "    </tr>\n",
       "    <tr>\n",
       "      <th>icpsr</th>\n",
       "      <td>29701</td>\n",
       "      <td>22100</td>\n",
       "      <td>21196</td>\n",
       "    </tr>\n",
       "    <tr>\n",
       "      <th>party</th>\n",
       "      <td>Republican</td>\n",
       "      <td>Democrat</td>\n",
       "      <td>Republican</td>\n",
       "    </tr>\n",
       "  </tbody>\n",
       "</table>\n",
       "</div>"
      ],
      "text/plain": [
       "                                                                     0  \\\n",
       "bioguide_id                                                    A000055   \n",
       "Full name                                           Robert B. Aderholt   \n",
       "Chamber                                       House of Representatives   \n",
       "State                                                          Alabama   \n",
       "Party                                                       Republican   \n",
       "District                                                           4.0   \n",
       "birthYear                                                       1965.0   \n",
       "image                https://www.congress.gov/img/member/a000055_20...   \n",
       "Office address       272 Cannon House Office Building, Washington, ...   \n",
       "Phone                                                   (202) 225-4876   \n",
       "Website                                    https://aderholt.house.gov/   \n",
       "fec_id                                                       H6AL04098   \n",
       "bioname                                               ADERHOLT, Robert   \n",
       "chamber                                                          House   \n",
       "left_right_ideology                                              0.405   \n",
       "state_abbrev                                                        AL   \n",
       "district_code                                                        4   \n",
       "icpsr                                                            29701   \n",
       "party                                                       Republican   \n",
       "\n",
       "                                                                     1  \\\n",
       "bioguide_id                                                    A000148   \n",
       "Full name                                             Jake Auchincloss   \n",
       "Chamber                                       House of Representatives   \n",
       "State                                                    Massachusetts   \n",
       "Party                                                       Democratic   \n",
       "District                                                           4.0   \n",
       "birthYear                                                       1988.0   \n",
       "image                https://www.congress.gov/img/member/67817e391f...   \n",
       "Office address       1524 Longworth House Office Building, Washingt...   \n",
       "Phone                                                   (202) 225-5931   \n",
       "Website                                  https://auchincloss.house.gov   \n",
       "fec_id                                                       H0MA04192   \n",
       "bioname                                              AUCHINCLOSS, Jake   \n",
       "chamber                                                          House   \n",
       "left_right_ideology                                             -0.288   \n",
       "state_abbrev                                                        MA   \n",
       "district_code                                                        4   \n",
       "icpsr                                                            22100   \n",
       "party                                                         Democrat   \n",
       "\n",
       "                                                                     2  \n",
       "bioguide_id                                                    A000369  \n",
       "Full name                                               Mark E. Amodei  \n",
       "Chamber                                       House of Representatives  \n",
       "State                                                           Nevada  \n",
       "Party                                                       Republican  \n",
       "District                                                           2.0  \n",
       "birthYear                                                       1958.0  \n",
       "image                https://www.congress.gov/img/member/a000369_20...  \n",
       "Office address       104 Cannon House Office Building, Washington, ...  \n",
       "Phone                                                   (202) 225-6155  \n",
       "Website                                       https://amodei.house.gov  \n",
       "fec_id                                                       H2NV02395  \n",
       "bioname                                                AMODEI, Mark E.  \n",
       "chamber                                                          House  \n",
       "left_right_ideology                                              0.384  \n",
       "state_abbrev                                                        NV  \n",
       "district_code                                                        2  \n",
       "icpsr                                                            21196  \n",
       "party                                                       Republican  "
      ]
     },
     "execution_count": 872,
     "metadata": {},
     "output_type": "execute_result"
    }
   ],
   "source": [
    "members.head(3).T"
   ]
  },
  {
   "cell_type": "code",
   "execution_count": 873,
   "id": "caba583d",
   "metadata": {},
   "outputs": [],
   "source": [
    "members = members.drop(['Chamber', \"Party\", \"District\", \"State\"], axis = 1)\n",
    "members.columns = [c.lower().replace(' ', '_') for c in members.columns]"
   ]
  },
  {
   "cell_type": "code",
   "execution_count": 874,
   "id": "30440b02",
   "metadata": {},
   "outputs": [
    {
     "data": {
      "text/html": [
       "<div>\n",
       "<style scoped>\n",
       "    .dataframe tbody tr th:only-of-type {\n",
       "        vertical-align: middle;\n",
       "    }\n",
       "\n",
       "    .dataframe tbody tr th {\n",
       "        vertical-align: top;\n",
       "    }\n",
       "\n",
       "    .dataframe thead th {\n",
       "        text-align: right;\n",
       "    }\n",
       "</style>\n",
       "<table border=\"1\" class=\"dataframe\">\n",
       "  <thead>\n",
       "    <tr style=\"text-align: right;\">\n",
       "      <th></th>\n",
       "      <th>0</th>\n",
       "      <th>1</th>\n",
       "      <th>2</th>\n",
       "    </tr>\n",
       "  </thead>\n",
       "  <tbody>\n",
       "    <tr>\n",
       "      <th>bioguide_id</th>\n",
       "      <td>A000055</td>\n",
       "      <td>A000148</td>\n",
       "      <td>A000369</td>\n",
       "    </tr>\n",
       "    <tr>\n",
       "      <th>full_name</th>\n",
       "      <td>Robert B. Aderholt</td>\n",
       "      <td>Jake Auchincloss</td>\n",
       "      <td>Mark E. Amodei</td>\n",
       "    </tr>\n",
       "    <tr>\n",
       "      <th>birthyear</th>\n",
       "      <td>1965.0</td>\n",
       "      <td>1988.0</td>\n",
       "      <td>1958.0</td>\n",
       "    </tr>\n",
       "    <tr>\n",
       "      <th>image</th>\n",
       "      <td>https://www.congress.gov/img/member/a000055_20...</td>\n",
       "      <td>https://www.congress.gov/img/member/67817e391f...</td>\n",
       "      <td>https://www.congress.gov/img/member/a000369_20...</td>\n",
       "    </tr>\n",
       "    <tr>\n",
       "      <th>office_address</th>\n",
       "      <td>272 Cannon House Office Building, Washington, ...</td>\n",
       "      <td>1524 Longworth House Office Building, Washingt...</td>\n",
       "      <td>104 Cannon House Office Building, Washington, ...</td>\n",
       "    </tr>\n",
       "    <tr>\n",
       "      <th>phone</th>\n",
       "      <td>(202) 225-4876</td>\n",
       "      <td>(202) 225-5931</td>\n",
       "      <td>(202) 225-6155</td>\n",
       "    </tr>\n",
       "    <tr>\n",
       "      <th>website</th>\n",
       "      <td>https://aderholt.house.gov/</td>\n",
       "      <td>https://auchincloss.house.gov</td>\n",
       "      <td>https://amodei.house.gov</td>\n",
       "    </tr>\n",
       "    <tr>\n",
       "      <th>fec_id</th>\n",
       "      <td>H6AL04098</td>\n",
       "      <td>H0MA04192</td>\n",
       "      <td>H2NV02395</td>\n",
       "    </tr>\n",
       "    <tr>\n",
       "      <th>bioname</th>\n",
       "      <td>ADERHOLT, Robert</td>\n",
       "      <td>AUCHINCLOSS, Jake</td>\n",
       "      <td>AMODEI, Mark E.</td>\n",
       "    </tr>\n",
       "    <tr>\n",
       "      <th>chamber</th>\n",
       "      <td>House</td>\n",
       "      <td>House</td>\n",
       "      <td>House</td>\n",
       "    </tr>\n",
       "    <tr>\n",
       "      <th>left_right_ideology</th>\n",
       "      <td>0.405</td>\n",
       "      <td>-0.288</td>\n",
       "      <td>0.384</td>\n",
       "    </tr>\n",
       "    <tr>\n",
       "      <th>state_abbrev</th>\n",
       "      <td>AL</td>\n",
       "      <td>MA</td>\n",
       "      <td>NV</td>\n",
       "    </tr>\n",
       "    <tr>\n",
       "      <th>district_code</th>\n",
       "      <td>4</td>\n",
       "      <td>4</td>\n",
       "      <td>2</td>\n",
       "    </tr>\n",
       "    <tr>\n",
       "      <th>icpsr</th>\n",
       "      <td>29701</td>\n",
       "      <td>22100</td>\n",
       "      <td>21196</td>\n",
       "    </tr>\n",
       "    <tr>\n",
       "      <th>party</th>\n",
       "      <td>Republican</td>\n",
       "      <td>Democrat</td>\n",
       "      <td>Republican</td>\n",
       "    </tr>\n",
       "  </tbody>\n",
       "</table>\n",
       "</div>"
      ],
      "text/plain": [
       "                                                                     0  \\\n",
       "bioguide_id                                                    A000055   \n",
       "full_name                                           Robert B. Aderholt   \n",
       "birthyear                                                       1965.0   \n",
       "image                https://www.congress.gov/img/member/a000055_20...   \n",
       "office_address       272 Cannon House Office Building, Washington, ...   \n",
       "phone                                                   (202) 225-4876   \n",
       "website                                    https://aderholt.house.gov/   \n",
       "fec_id                                                       H6AL04098   \n",
       "bioname                                               ADERHOLT, Robert   \n",
       "chamber                                                          House   \n",
       "left_right_ideology                                              0.405   \n",
       "state_abbrev                                                        AL   \n",
       "district_code                                                        4   \n",
       "icpsr                                                            29701   \n",
       "party                                                       Republican   \n",
       "\n",
       "                                                                     1  \\\n",
       "bioguide_id                                                    A000148   \n",
       "full_name                                             Jake Auchincloss   \n",
       "birthyear                                                       1988.0   \n",
       "image                https://www.congress.gov/img/member/67817e391f...   \n",
       "office_address       1524 Longworth House Office Building, Washingt...   \n",
       "phone                                                   (202) 225-5931   \n",
       "website                                  https://auchincloss.house.gov   \n",
       "fec_id                                                       H0MA04192   \n",
       "bioname                                              AUCHINCLOSS, Jake   \n",
       "chamber                                                          House   \n",
       "left_right_ideology                                             -0.288   \n",
       "state_abbrev                                                        MA   \n",
       "district_code                                                        4   \n",
       "icpsr                                                            22100   \n",
       "party                                                         Democrat   \n",
       "\n",
       "                                                                     2  \n",
       "bioguide_id                                                    A000369  \n",
       "full_name                                               Mark E. Amodei  \n",
       "birthyear                                                       1958.0  \n",
       "image                https://www.congress.gov/img/member/a000369_20...  \n",
       "office_address       104 Cannon House Office Building, Washington, ...  \n",
       "phone                                                   (202) 225-6155  \n",
       "website                                       https://amodei.house.gov  \n",
       "fec_id                                                       H2NV02395  \n",
       "bioname                                                AMODEI, Mark E.  \n",
       "chamber                                                          House  \n",
       "left_right_ideology                                              0.384  \n",
       "state_abbrev                                                        NV  \n",
       "district_code                                                        2  \n",
       "icpsr                                                            21196  \n",
       "party                                                       Republican  "
      ]
     },
     "execution_count": 874,
     "metadata": {},
     "output_type": "execute_result"
    }
   ],
   "source": [
    "members.head(3).T"
   ]
  },
  {
   "cell_type": "code",
   "execution_count": 875,
   "id": "2a8f25b4",
   "metadata": {},
   "outputs": [],
   "source": [
    "members.to_csv('../data/thirdNF/members.csv', index = False)"
   ]
  },
  {
   "cell_type": "code",
   "execution_count": 876,
   "id": "5c27dccc",
   "metadata": {},
   "outputs": [
    {
     "data": {
      "text/html": [
       "<div>\n",
       "<style scoped>\n",
       "    .dataframe tbody tr th:only-of-type {\n",
       "        vertical-align: middle;\n",
       "    }\n",
       "\n",
       "    .dataframe tbody tr th {\n",
       "        vertical-align: top;\n",
       "    }\n",
       "\n",
       "    .dataframe thead th {\n",
       "        text-align: right;\n",
       "    }\n",
       "</style>\n",
       "<table border=\"1\" class=\"dataframe\">\n",
       "  <thead>\n",
       "    <tr style=\"text-align: right;\">\n",
       "      <th></th>\n",
       "      <th>0</th>\n",
       "      <th>1</th>\n",
       "      <th>2</th>\n",
       "    </tr>\n",
       "  </thead>\n",
       "  <tbody>\n",
       "    <tr>\n",
       "      <th>actionDate</th>\n",
       "      <td>2025-10-15</td>\n",
       "      <td>2025-10-08</td>\n",
       "      <td>2025-10-08</td>\n",
       "    </tr>\n",
       "    <tr>\n",
       "      <th>actionDesc</th>\n",
       "      <td>Introduced in Senate</td>\n",
       "      <td>Introduced in House</td>\n",
       "      <td>Introduced in House</td>\n",
       "    </tr>\n",
       "    <tr>\n",
       "      <th>currentChamber</th>\n",
       "      <td>Senate</td>\n",
       "      <td>House</td>\n",
       "      <td>House</td>\n",
       "    </tr>\n",
       "    <tr>\n",
       "      <th>currentChamberCode</th>\n",
       "      <td>S</td>\n",
       "      <td>H</td>\n",
       "      <td>H</td>\n",
       "    </tr>\n",
       "    <tr>\n",
       "      <th>lastSummaryUpdateDate</th>\n",
       "      <td>2025-10-20T19:23:02Z</td>\n",
       "      <td>2025-10-20T14:56:29Z</td>\n",
       "      <td>2025-10-20T14:06:32Z</td>\n",
       "    </tr>\n",
       "    <tr>\n",
       "      <th>text</th>\n",
       "      <td>&lt;p&gt;&lt;strong&gt;Shutdown Fairness Act&lt;/strong&gt;&lt;/p&gt;&lt;...</td>\n",
       "      <td>&lt;p&gt;&lt;strong&gt;Federal Worker Childcare Protection...</td>\n",
       "      <td>&lt;p&gt;This bill requires the federal government t...</td>\n",
       "    </tr>\n",
       "    <tr>\n",
       "      <th>updateDate</th>\n",
       "      <td>2025-10-20T19:23:15Z</td>\n",
       "      <td>2025-10-20T14:56:58Z</td>\n",
       "      <td>2025-10-20T14:07:00Z</td>\n",
       "    </tr>\n",
       "    <tr>\n",
       "      <th>versionCode</th>\n",
       "      <td>0</td>\n",
       "      <td>0</td>\n",
       "      <td>0</td>\n",
       "    </tr>\n",
       "    <tr>\n",
       "      <th>bill.congress</th>\n",
       "      <td>119</td>\n",
       "      <td>119</td>\n",
       "      <td>119</td>\n",
       "    </tr>\n",
       "    <tr>\n",
       "      <th>bill.number</th>\n",
       "      <td>3012</td>\n",
       "      <td>5720</td>\n",
       "      <td>5705</td>\n",
       "    </tr>\n",
       "    <tr>\n",
       "      <th>bill.originChamber</th>\n",
       "      <td>Senate</td>\n",
       "      <td>House</td>\n",
       "      <td>House</td>\n",
       "    </tr>\n",
       "    <tr>\n",
       "      <th>bill.originChamberCode</th>\n",
       "      <td>S</td>\n",
       "      <td>H</td>\n",
       "      <td>H</td>\n",
       "    </tr>\n",
       "    <tr>\n",
       "      <th>bill.title</th>\n",
       "      <td>Shutdown Fairness Act</td>\n",
       "      <td>Federal Worker Childcare Protection Act of 2025</td>\n",
       "      <td>To authorize the reimbursement by the Federal ...</td>\n",
       "    </tr>\n",
       "    <tr>\n",
       "      <th>bill.type</th>\n",
       "      <td>S</td>\n",
       "      <td>HR</td>\n",
       "      <td>HR</td>\n",
       "    </tr>\n",
       "    <tr>\n",
       "      <th>bill.updateDateIncludingText</th>\n",
       "      <td>2025-10-21</td>\n",
       "      <td>2025-10-20</td>\n",
       "      <td>2025-10-20</td>\n",
       "    </tr>\n",
       "    <tr>\n",
       "      <th>bill.url</th>\n",
       "      <td>https://api.congress.gov/v3/bill/119/s/3012?fo...</td>\n",
       "      <td>https://api.congress.gov/v3/bill/119/hr/5720?f...</td>\n",
       "      <td>https://api.congress.gov/v3/bill/119/hr/5705?f...</td>\n",
       "    </tr>\n",
       "  </tbody>\n",
       "</table>\n",
       "</div>"
      ],
      "text/plain": [
       "                                                                              0  \\\n",
       "actionDate                                                           2025-10-15   \n",
       "actionDesc                                                 Introduced in Senate   \n",
       "currentChamber                                                           Senate   \n",
       "currentChamberCode                                                            S   \n",
       "lastSummaryUpdateDate                                      2025-10-20T19:23:02Z   \n",
       "text                          <p><strong>Shutdown Fairness Act</strong></p><...   \n",
       "updateDate                                                 2025-10-20T19:23:15Z   \n",
       "versionCode                                                                   0   \n",
       "bill.congress                                                               119   \n",
       "bill.number                                                                3012   \n",
       "bill.originChamber                                                       Senate   \n",
       "bill.originChamberCode                                                        S   \n",
       "bill.title                                                Shutdown Fairness Act   \n",
       "bill.type                                                                     S   \n",
       "bill.updateDateIncludingText                                         2025-10-21   \n",
       "bill.url                      https://api.congress.gov/v3/bill/119/s/3012?fo...   \n",
       "\n",
       "                                                                              1  \\\n",
       "actionDate                                                           2025-10-08   \n",
       "actionDesc                                                  Introduced in House   \n",
       "currentChamber                                                            House   \n",
       "currentChamberCode                                                            H   \n",
       "lastSummaryUpdateDate                                      2025-10-20T14:56:29Z   \n",
       "text                          <p><strong>Federal Worker Childcare Protection...   \n",
       "updateDate                                                 2025-10-20T14:56:58Z   \n",
       "versionCode                                                                   0   \n",
       "bill.congress                                                               119   \n",
       "bill.number                                                                5720   \n",
       "bill.originChamber                                                        House   \n",
       "bill.originChamberCode                                                        H   \n",
       "bill.title                      Federal Worker Childcare Protection Act of 2025   \n",
       "bill.type                                                                    HR   \n",
       "bill.updateDateIncludingText                                         2025-10-20   \n",
       "bill.url                      https://api.congress.gov/v3/bill/119/hr/5720?f...   \n",
       "\n",
       "                                                                              2  \n",
       "actionDate                                                           2025-10-08  \n",
       "actionDesc                                                  Introduced in House  \n",
       "currentChamber                                                            House  \n",
       "currentChamberCode                                                            H  \n",
       "lastSummaryUpdateDate                                      2025-10-20T14:06:32Z  \n",
       "text                          <p>This bill requires the federal government t...  \n",
       "updateDate                                                 2025-10-20T14:07:00Z  \n",
       "versionCode                                                                   0  \n",
       "bill.congress                                                               119  \n",
       "bill.number                                                                5705  \n",
       "bill.originChamber                                                        House  \n",
       "bill.originChamberCode                                                        H  \n",
       "bill.title                    To authorize the reimbursement by the Federal ...  \n",
       "bill.type                                                                    HR  \n",
       "bill.updateDateIncludingText                                         2025-10-20  \n",
       "bill.url                      https://api.congress.gov/v3/bill/119/hr/5705?f...  "
      ]
     },
     "execution_count": 876,
     "metadata": {},
     "output_type": "execute_result"
    }
   ],
   "source": [
    "bill_summaries.head(3).T"
   ]
  },
  {
   "cell_type": "code",
   "execution_count": 877,
   "id": "b2413678",
   "metadata": {},
   "outputs": [
    {
     "data": {
      "text/plain": [
       "bill.originChamberCode\n",
       "1                         2735\n",
       "Name: count, dtype: int64"
      ]
     },
     "execution_count": 877,
     "metadata": {},
     "output_type": "execute_result"
    }
   ],
   "source": [
    "bill_summaries.groupby(['bill.type', 'bill.number',]).agg({'bill.originChamberCode':'nunique'}).value_counts()"
   ]
  },
  {
   "cell_type": "code",
   "execution_count": 878,
   "id": "d4303fee",
   "metadata": {},
   "outputs": [
    {
     "data": {
      "text/plain": [
       "text\n",
       "1       2751\n",
       "Name: count, dtype: int64"
      ]
     },
     "execution_count": 878,
     "metadata": {},
     "output_type": "execute_result"
    }
   ],
   "source": [
    "bill_summaries.groupby(['bill.type', 'bill.number','versionCode']).agg({'text':'nunique'}).value_counts()"
   ]
  },
  {
   "cell_type": "code",
   "execution_count": 879,
   "id": "780ac6cc",
   "metadata": {},
   "outputs": [
    {
     "name": "stdout",
     "output_type": "stream",
     "text": [
      "actionDate\n",
      "False\n",
      "actionDesc\n",
      "False\n",
      "currentChamber\n",
      "False\n",
      "currentChamberCode\n",
      "False\n",
      "lastSummaryUpdateDate\n",
      "False\n",
      "text\n",
      "False\n",
      "updateDate\n",
      "False\n",
      "versionCode\n",
      "False\n",
      "bill.congress\n",
      "True\n",
      "bill.number\n",
      "True\n",
      "bill.originChamber\n",
      "True\n",
      "bill.originChamberCode\n",
      "True\n",
      "bill.title\n",
      "True\n",
      "bill.type\n",
      "True\n",
      "bill.updateDateIncludingText\n",
      "True\n",
      "bill.url\n",
      "True\n"
     ]
    }
   ],
   "source": [
    "for c in bill_summaries.columns:\n",
    "    print(c)\n",
    "    d = bill_summaries.groupby(['bill.type', 'bill.number']).agg({c: 'nunique'})\n",
    "    print(np.mean(d[c]) == 1)"
   ]
  },
  {
   "cell_type": "code",
   "execution_count": 880,
   "id": "61750231",
   "metadata": {},
   "outputs": [],
   "source": [
    "bills = bill_summaries[['bill.type', 'bill.number', 'bill.congress', 'bill.originChamber',\n",
    "                       'bill.originChamberCode', 'bill.title', 'bill.updateDateIncludingText', 'bill.url']].drop_duplicates()\n",
    "bills.columns = [c.lower().replace('..', '_') for c in bills.columns]\n",
    "bills.to_csv('../data/thirdNF/bills.csv')\n"
   ]
  },
  {
   "cell_type": "code",
   "execution_count": 881,
   "id": "80e008bf",
   "metadata": {},
   "outputs": [
    {
     "ename": "TypeError",
     "evalue": "'method' object is not subscriptable",
     "output_type": "error",
     "traceback": [
      "\u001b[31m---------------------------------------------------------------------------\u001b[39m",
      "\u001b[31mTypeError\u001b[39m                                 Traceback (most recent call last)",
      "\u001b[36mCell\u001b[39m\u001b[36m \u001b[39m\u001b[32mIn[881]\u001b[39m\u001b[32m, line 1\u001b[39m\n\u001b[32m----> \u001b[39m\u001b[32m1\u001b[39m bill_version = \u001b[43mbill_summaries\u001b[49m\u001b[43m.\u001b[49m\u001b[43mdrop\u001b[49m\u001b[43m[\u001b[49m\u001b[43m[\u001b[49m\u001b[33;43m'\u001b[39;49m\u001b[33;43mbill.congress\u001b[39;49m\u001b[33;43m'\u001b[39;49m\u001b[43m,\u001b[49m\u001b[43m \u001b[49m\u001b[33;43m'\u001b[39;49m\u001b[33;43mbill.originChamber\u001b[39;49m\u001b[33;43m'\u001b[39;49m\u001b[43m,\u001b[49m\n\u001b[32m      2\u001b[39m \u001b[43m                       \u001b[49m\u001b[33;43m'\u001b[39;49m\u001b[33;43mbill.originChamberCode\u001b[39;49m\u001b[33;43m'\u001b[39;49m\u001b[43m,\u001b[49m\u001b[43m \u001b[49m\u001b[33;43m'\u001b[39;49m\u001b[33;43mbill.title\u001b[39;49m\u001b[33;43m'\u001b[39;49m\u001b[43m,\u001b[49m\u001b[43m \u001b[49m\u001b[33;43m'\u001b[39;49m\u001b[33;43mbill.updateDateIncludingText\u001b[39;49m\u001b[33;43m'\u001b[39;49m\u001b[43m,\u001b[49m\u001b[43m \u001b[49m\u001b[33;43m'\u001b[39;49m\u001b[33;43mbill.url\u001b[39;49m\u001b[33;43m'\u001b[39;49m\u001b[43m]\u001b[49m\u001b[43m]\u001b[49m.drop_duplicates()\n",
      "\u001b[31mTypeError\u001b[39m: 'method' object is not subscriptable"
     ]
    }
   ],
   "source": [
    "bill_version = bill_summaries.drop[['bill.congress', 'bill.originChamber',\n",
    "                       'bill.originChamberCode', 'bill.title', 'bill.updateDateIncludingText', 'bill.url']].drop_duplicates()"
   ]
  }
 ],
 "metadata": {
  "kernelspec": {
   "display_name": "ds6600",
   "language": "python",
   "name": "python3"
  },
  "language_info": {
   "codemirror_mode": {
    "name": "ipython",
    "version": 3
   },
   "file_extension": ".py",
   "mimetype": "text/x-python",
   "name": "python",
   "nbconvert_exporter": "python",
   "pygments_lexer": "ipython3",
   "version": "3.13.5"
  }
 },
 "nbformat": 4,
 "nbformat_minor": 5
}
