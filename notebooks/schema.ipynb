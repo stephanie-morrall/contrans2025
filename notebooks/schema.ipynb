{
 "cells": [
  {
   "cell_type": "code",
   "execution_count": 61,
   "id": "b4d0b094",
   "metadata": {},
   "outputs": [],
   "source": [
    "import numpy as np\n",
    "import pandas as pd"
   ]
  },
  {
   "cell_type": "markdown",
   "id": "9c1d0622",
   "metadata": {},
   "source": [
    "Answer these question:\n",
    "\n",
    "\n",
    "\n",
    "2. For every CSV, should it constitute a table in the 3NF database? Or should it be broken into multiple tables or combined with another CSV?\n",
    "3. Are any any columns redundant with columns elsewhere (maybe in different CSV), so that they can be removed?"
   ]
  },
  {
   "cell_type": "code",
   "execution_count": 62,
   "id": "d0aa3e26",
   "metadata": {},
   "outputs": [],
   "source": [
    "bill_summaries = pd.read_csv('../data/bill_summaries.csv')\n",
    "bioinfo = pd.read_csv('../data/bioinfo.csv')\n",
    "fec_ids = pd.read_csv('../data/fec_ids.csv')\n",
    "ideology = pd.read_csv('../data/ideology.csv')\n",
    "sponsored_legislation = pd.read_csv('../data/sponsored_legislation.csv')\n",
    "terms = pd.read_csv('../data/terms.csv')\n",
    "vote_compare = pd.read_csv('../data/vote_compare.csv')"
   ]
  },
  {
   "cell_type": "markdown",
   "id": "5a5e50ab",
   "metadata": {},
   "source": [
    "1. Does every CSV file have a primary key? If so, what is it?\n"
   ]
  },
  {
   "cell_type": "code",
   "execution_count": 63,
   "id": "44931134",
   "metadata": {},
   "outputs": [
    {
     "data": {
      "text/plain": [
       "Index(['actionDate', 'actionDesc', 'currentChamber', 'currentChamberCode',\n",
       "       'lastSummaryUpdateDate', 'text', 'updateDate', 'versionCode',\n",
       "       'bill.congress', 'bill.number', 'bill.originChamber',\n",
       "       'bill.originChamberCode', 'bill.title', 'bill.type',\n",
       "       'bill.updateDateIncludingText', 'bill.url'],\n",
       "      dtype='object')"
      ]
     },
     "execution_count": 63,
     "metadata": {},
     "output_type": "execute_result"
    }
   ],
   "source": [
    "bill_summaries.columns\n"
   ]
  },
  {
   "cell_type": "code",
   "execution_count": 64,
   "id": "6f535ab6",
   "metadata": {},
   "outputs": [
    {
     "data": {
      "text/plain": [
       "False    2735\n",
       "True       16\n",
       "Name: count, dtype: int64"
      ]
     },
     "execution_count": 64,
     "metadata": {},
     "output_type": "execute_result"
    }
   ],
   "source": [
    "bill_summaries[['bill.type', 'bill.number']].duplicated().value_counts()"
   ]
  },
  {
   "cell_type": "code",
   "execution_count": 65,
   "id": "5161e3df",
   "metadata": {},
   "outputs": [
    {
     "data": {
      "text/html": [
       "<div>\n",
       "<style scoped>\n",
       "    .dataframe tbody tr th:only-of-type {\n",
       "        vertical-align: middle;\n",
       "    }\n",
       "\n",
       "    .dataframe tbody tr th {\n",
       "        vertical-align: top;\n",
       "    }\n",
       "\n",
       "    .dataframe thead th {\n",
       "        text-align: right;\n",
       "    }\n",
       "</style>\n",
       "<table border=\"1\" class=\"dataframe\">\n",
       "  <thead>\n",
       "    <tr style=\"text-align: right;\">\n",
       "      <th></th>\n",
       "      <th>actionDate</th>\n",
       "      <th>actionDesc</th>\n",
       "      <th>currentChamber</th>\n",
       "      <th>currentChamberCode</th>\n",
       "      <th>lastSummaryUpdateDate</th>\n",
       "      <th>text</th>\n",
       "      <th>updateDate</th>\n",
       "      <th>versionCode</th>\n",
       "      <th>bill.congress</th>\n",
       "      <th>bill.number</th>\n",
       "      <th>bill.originChamber</th>\n",
       "      <th>bill.originChamberCode</th>\n",
       "      <th>bill.title</th>\n",
       "      <th>bill.type</th>\n",
       "      <th>bill.updateDateIncludingText</th>\n",
       "      <th>bill.url</th>\n",
       "    </tr>\n",
       "  </thead>\n",
       "  <tbody>\n",
       "    <tr>\n",
       "      <th>29</th>\n",
       "      <td>2025-07-04</td>\n",
       "      <td>Public Law</td>\n",
       "      <td>Unknown</td>\n",
       "      <td>Unknown</td>\n",
       "      <td>2025-10-06T21:40:39Z</td>\n",
       "      <td>&lt;p&gt;This act reduces taxes, reduces or increase...</td>\n",
       "      <td>2025-10-06T21:49:14Z</td>\n",
       "      <td>49</td>\n",
       "      <td>119</td>\n",
       "      <td>1</td>\n",
       "      <td>House</td>\n",
       "      <td>H</td>\n",
       "      <td>One Big Beautiful Bill Act</td>\n",
       "      <td>HR</td>\n",
       "      <td>2025-10-09</td>\n",
       "      <td>https://api.congress.gov/v3/bill/119/hr/1?form...</td>\n",
       "    </tr>\n",
       "    <tr>\n",
       "      <th>37</th>\n",
       "      <td>2025-07-25</td>\n",
       "      <td>Introduced in House</td>\n",
       "      <td>House</td>\n",
       "      <td>H</td>\n",
       "      <td>2025-10-03T13:52:59Z</td>\n",
       "      <td>&lt;p&gt;&lt;strong&gt;National Security, Department of St...</td>\n",
       "      <td>2025-10-03T13:57:42Z</td>\n",
       "      <td>0</td>\n",
       "      <td>119</td>\n",
       "      <td>4779</td>\n",
       "      <td>House</td>\n",
       "      <td>H</td>\n",
       "      <td>National Security, Department of State, and Re...</td>\n",
       "      <td>HR</td>\n",
       "      <td>2025-10-03</td>\n",
       "      <td>https://api.congress.gov/v3/bill/119/hr/4779?f...</td>\n",
       "    </tr>\n",
       "    <tr>\n",
       "      <th>108</th>\n",
       "      <td>2025-09-12</td>\n",
       "      <td>Reported to House</td>\n",
       "      <td>House</td>\n",
       "      <td>H</td>\n",
       "      <td>2025-09-22T14:53:55Z</td>\n",
       "      <td>&lt;p&gt;&lt;strong&gt;Commerce, Justice, Science, and Rel...</td>\n",
       "      <td>2025-09-22T14:57:54Z</td>\n",
       "      <td>7</td>\n",
       "      <td>119</td>\n",
       "      <td>5342</td>\n",
       "      <td>House</td>\n",
       "      <td>H</td>\n",
       "      <td>Commerce, Justice, Science, and Related Agenci...</td>\n",
       "      <td>HR</td>\n",
       "      <td>2025-09-22</td>\n",
       "      <td>https://api.congress.gov/v3/bill/119/hr/5342?f...</td>\n",
       "    </tr>\n",
       "    <tr>\n",
       "      <th>112</th>\n",
       "      <td>2025-05-20</td>\n",
       "      <td>Reported to House</td>\n",
       "      <td>House</td>\n",
       "      <td>H</td>\n",
       "      <td>2025-09-22T12:34:08Z</td>\n",
       "      <td>&lt;p&gt;&lt;strong&gt;One Big Beautiful Bill Act&lt;/strong&gt;...</td>\n",
       "      <td>2025-09-22T12:35:46Z</td>\n",
       "      <td>7</td>\n",
       "      <td>119</td>\n",
       "      <td>1</td>\n",
       "      <td>House</td>\n",
       "      <td>H</td>\n",
       "      <td>One Big Beautiful Bill Act</td>\n",
       "      <td>HR</td>\n",
       "      <td>2025-10-09</td>\n",
       "      <td>https://api.congress.gov/v3/bill/119/hr/1?form...</td>\n",
       "    </tr>\n",
       "    <tr>\n",
       "      <th>147</th>\n",
       "      <td>2025-03-06</td>\n",
       "      <td>Introduced in Senate</td>\n",
       "      <td>Senate</td>\n",
       "      <td>S</td>\n",
       "      <td>2025-09-17T15:15:53Z</td>\n",
       "      <td>&lt;p&gt;This resolution designates March 6, 2025, a...</td>\n",
       "      <td>2025-09-17T15:16:59Z</td>\n",
       "      <td>0</td>\n",
       "      <td>119</td>\n",
       "      <td>118</td>\n",
       "      <td>Senate</td>\n",
       "      <td>S</td>\n",
       "      <td>A resolution designating March 6, 2025, as \"Na...</td>\n",
       "      <td>SRES</td>\n",
       "      <td>2025-09-17</td>\n",
       "      <td>https://api.congress.gov/v3/bill/119/sres/118?...</td>\n",
       "    </tr>\n",
       "    <tr>\n",
       "      <th>806</th>\n",
       "      <td>2025-03-18</td>\n",
       "      <td>Introduced in House</td>\n",
       "      <td>House</td>\n",
       "      <td>H</td>\n",
       "      <td>2025-06-24T16:26:37Z</td>\n",
       "      <td>&lt;p&gt;This bill designates the community-based ou...</td>\n",
       "      <td>2025-06-24T16:26:43Z</td>\n",
       "      <td>0</td>\n",
       "      <td>119</td>\n",
       "      <td>2170</td>\n",
       "      <td>House</td>\n",
       "      <td>H</td>\n",
       "      <td>To name the Department of Veterans Affairs com...</td>\n",
       "      <td>HR</td>\n",
       "      <td>2025-09-17</td>\n",
       "      <td>https://api.congress.gov/v3/bill/119/hr/2170?f...</td>\n",
       "    </tr>\n",
       "    <tr>\n",
       "      <th>880</th>\n",
       "      <td>2025-06-12</td>\n",
       "      <td>Introduced in House</td>\n",
       "      <td>House</td>\n",
       "      <td>H</td>\n",
       "      <td>2025-06-16T15:17:11Z</td>\n",
       "      <td>&lt;p&gt;&lt;strong&gt;Military Construction, Veterans Aff...</td>\n",
       "      <td>2025-06-16T15:19:43Z</td>\n",
       "      <td>0</td>\n",
       "      <td>119</td>\n",
       "      <td>3944</td>\n",
       "      <td>House</td>\n",
       "      <td>H</td>\n",
       "      <td>Military Construction and Veterans Affairs, Ag...</td>\n",
       "      <td>HR</td>\n",
       "      <td>2025-10-09</td>\n",
       "      <td>https://api.congress.gov/v3/bill/119/hr/3944?f...</td>\n",
       "    </tr>\n",
       "    <tr>\n",
       "      <th>884</th>\n",
       "      <td>2025-05-22</td>\n",
       "      <td>Passed House</td>\n",
       "      <td>House</td>\n",
       "      <td>H</td>\n",
       "      <td>2025-06-16T13:42:01Z</td>\n",
       "      <td>&lt;p&gt;&lt;strong&gt;One Big Beautiful Bill Act&lt;/strong&gt;...</td>\n",
       "      <td>2025-06-16T14:04:44Z</td>\n",
       "      <td>53</td>\n",
       "      <td>119</td>\n",
       "      <td>1</td>\n",
       "      <td>House</td>\n",
       "      <td>H</td>\n",
       "      <td>One Big Beautiful Bill Act</td>\n",
       "      <td>HR</td>\n",
       "      <td>2025-10-09</td>\n",
       "      <td>https://api.congress.gov/v3/bill/119/hr/1?form...</td>\n",
       "    </tr>\n",
       "    <tr>\n",
       "      <th>904</th>\n",
       "      <td>2025-06-06</td>\n",
       "      <td>Introduced in House</td>\n",
       "      <td>House</td>\n",
       "      <td>H</td>\n",
       "      <td>2025-06-13T14:03:58Z</td>\n",
       "      <td>&lt;p&gt;&lt;strong&gt;Rescissions Act of 2025&lt;/strong&gt;&lt;/p...</td>\n",
       "      <td>2025-06-13T17:00:48Z</td>\n",
       "      <td>0</td>\n",
       "      <td>119</td>\n",
       "      <td>4</td>\n",
       "      <td>House</td>\n",
       "      <td>H</td>\n",
       "      <td>Rescissions Act of 2025</td>\n",
       "      <td>HR</td>\n",
       "      <td>2025-10-09</td>\n",
       "      <td>https://api.congress.gov/v3/bill/119/hr/4?form...</td>\n",
       "    </tr>\n",
       "    <tr>\n",
       "      <th>960</th>\n",
       "      <td>2025-05-13</td>\n",
       "      <td>Passed House</td>\n",
       "      <td>House</td>\n",
       "      <td>H</td>\n",
       "      <td>2025-06-10T15:52:46Z</td>\n",
       "      <td>&lt;p&gt;&lt;strong&gt;Benefits that Endure for Lifetimes ...</td>\n",
       "      <td>2025-06-10T15:53:36Z</td>\n",
       "      <td>53</td>\n",
       "      <td>119</td>\n",
       "      <td>1682</td>\n",
       "      <td>House</td>\n",
       "      <td>H</td>\n",
       "      <td>BELO’S Act</td>\n",
       "      <td>HR</td>\n",
       "      <td>2025-08-12</td>\n",
       "      <td>https://api.congress.gov/v3/bill/119/hr/1682?f...</td>\n",
       "    </tr>\n",
       "    <tr>\n",
       "      <th>1071</th>\n",
       "      <td>2025-05-20</td>\n",
       "      <td>Introduced in House</td>\n",
       "      <td>House</td>\n",
       "      <td>H</td>\n",
       "      <td>2025-05-22T17:15:29Z</td>\n",
       "      <td>&lt;p&gt;&lt;strong&gt;One Big Beautiful Bill Act&lt;/strong&gt;...</td>\n",
       "      <td>2025-05-30T18:28:45Z</td>\n",
       "      <td>0</td>\n",
       "      <td>119</td>\n",
       "      <td>1</td>\n",
       "      <td>House</td>\n",
       "      <td>H</td>\n",
       "      <td>One Big Beautiful Bill Act</td>\n",
       "      <td>HR</td>\n",
       "      <td>2025-10-09</td>\n",
       "      <td>https://api.congress.gov/v3/bill/119/hr/1?form...</td>\n",
       "    </tr>\n",
       "    <tr>\n",
       "      <th>1143</th>\n",
       "      <td>2025-01-31</td>\n",
       "      <td>Introduced in House</td>\n",
       "      <td>House</td>\n",
       "      <td>H</td>\n",
       "      <td>2025-05-23T20:34:40Z</td>\n",
       "      <td>&lt;p&gt;&lt;b&gt;Protect Our Communities from DUIs Act&lt;/b...</td>\n",
       "      <td>2025-05-23T20:34:51Z</td>\n",
       "      <td>0</td>\n",
       "      <td>119</td>\n",
       "      <td>875</td>\n",
       "      <td>House</td>\n",
       "      <td>H</td>\n",
       "      <td>Jeremy and Angel Seay and Sergeant Brandon Men...</td>\n",
       "      <td>HR</td>\n",
       "      <td>2025-10-09</td>\n",
       "      <td>https://api.congress.gov/v3/bill/119/hr/875?fo...</td>\n",
       "    </tr>\n",
       "    <tr>\n",
       "      <th>1379</th>\n",
       "      <td>2025-02-04</td>\n",
       "      <td>Introduced in Senate</td>\n",
       "      <td>Senate</td>\n",
       "      <td>S</td>\n",
       "      <td>2025-05-06T16:58:09Z</td>\n",
       "      <td>&lt;p&gt;This joint resolution nullifies the final r...</td>\n",
       "      <td>2025-05-06T17:06:57Z</td>\n",
       "      <td>0</td>\n",
       "      <td>119</td>\n",
       "      <td>13</td>\n",
       "      <td>Senate</td>\n",
       "      <td>S</td>\n",
       "      <td>A joint resolution providing for congressional...</td>\n",
       "      <td>SJRES</td>\n",
       "      <td>2025-10-09</td>\n",
       "      <td>https://api.congress.gov/v3/bill/119/sjres/13?...</td>\n",
       "    </tr>\n",
       "    <tr>\n",
       "      <th>1859</th>\n",
       "      <td>2025-02-13</td>\n",
       "      <td>Introduced in Senate</td>\n",
       "      <td>Senate</td>\n",
       "      <td>S</td>\n",
       "      <td>2025-03-28T15:10:11Z</td>\n",
       "      <td>&lt;p&gt;This joint resolution nullifies the final r...</td>\n",
       "      <td>2025-03-28T15:10:28Z</td>\n",
       "      <td>0</td>\n",
       "      <td>119</td>\n",
       "      <td>18</td>\n",
       "      <td>Senate</td>\n",
       "      <td>S</td>\n",
       "      <td>A joint resolution disapproving the rule submi...</td>\n",
       "      <td>SJRES</td>\n",
       "      <td>2025-10-15</td>\n",
       "      <td>https://api.congress.gov/v3/bill/119/sjres/18?...</td>\n",
       "    </tr>\n",
       "    <tr>\n",
       "      <th>2272</th>\n",
       "      <td>2025-02-27</td>\n",
       "      <td>Introduced in Senate</td>\n",
       "      <td>Senate</td>\n",
       "      <td>S</td>\n",
       "      <td>2025-03-04T17:08:42Z</td>\n",
       "      <td>&lt;p&gt;This joint resolution nullifies the final r...</td>\n",
       "      <td>2025-03-04T17:09:47Z</td>\n",
       "      <td>0</td>\n",
       "      <td>119</td>\n",
       "      <td>28</td>\n",
       "      <td>Senate</td>\n",
       "      <td>S</td>\n",
       "      <td>A joint resolution disapproving the rule submi...</td>\n",
       "      <td>SJRES</td>\n",
       "      <td>2025-10-14</td>\n",
       "      <td>https://api.congress.gov/v3/bill/119/sjres/28?...</td>\n",
       "    </tr>\n",
       "    <tr>\n",
       "      <th>2705</th>\n",
       "      <td>2025-01-15</td>\n",
       "      <td>Introduced in House</td>\n",
       "      <td>House</td>\n",
       "      <td>H</td>\n",
       "      <td>2025-01-27T14:02:08Z</td>\n",
       "      <td>&lt;p&gt;This joint resolution nullifies the rule ti...</td>\n",
       "      <td>2025-01-27T14:02:43Z</td>\n",
       "      <td>0</td>\n",
       "      <td>119</td>\n",
       "      <td>20</td>\n",
       "      <td>House</td>\n",
       "      <td>H</td>\n",
       "      <td>Providing for congressional disapproval under ...</td>\n",
       "      <td>HJRES</td>\n",
       "      <td>2025-10-15</td>\n",
       "      <td>https://api.congress.gov/v3/bill/119/hjres/20?...</td>\n",
       "    </tr>\n",
       "  </tbody>\n",
       "</table>\n",
       "</div>"
      ],
      "text/plain": [
       "      actionDate            actionDesc currentChamber currentChamberCode  \\\n",
       "29    2025-07-04            Public Law        Unknown            Unknown   \n",
       "37    2025-07-25   Introduced in House          House                  H   \n",
       "108   2025-09-12     Reported to House          House                  H   \n",
       "112   2025-05-20     Reported to House          House                  H   \n",
       "147   2025-03-06  Introduced in Senate         Senate                  S   \n",
       "806   2025-03-18   Introduced in House          House                  H   \n",
       "880   2025-06-12   Introduced in House          House                  H   \n",
       "884   2025-05-22          Passed House          House                  H   \n",
       "904   2025-06-06   Introduced in House          House                  H   \n",
       "960   2025-05-13          Passed House          House                  H   \n",
       "1071  2025-05-20   Introduced in House          House                  H   \n",
       "1143  2025-01-31   Introduced in House          House                  H   \n",
       "1379  2025-02-04  Introduced in Senate         Senate                  S   \n",
       "1859  2025-02-13  Introduced in Senate         Senate                  S   \n",
       "2272  2025-02-27  Introduced in Senate         Senate                  S   \n",
       "2705  2025-01-15   Introduced in House          House                  H   \n",
       "\n",
       "     lastSummaryUpdateDate                                               text  \\\n",
       "29    2025-10-06T21:40:39Z  <p>This act reduces taxes, reduces or increase...   \n",
       "37    2025-10-03T13:52:59Z  <p><strong>National Security, Department of St...   \n",
       "108   2025-09-22T14:53:55Z  <p><strong>Commerce, Justice, Science, and Rel...   \n",
       "112   2025-09-22T12:34:08Z  <p><strong>One Big Beautiful Bill Act</strong>...   \n",
       "147   2025-09-17T15:15:53Z  <p>This resolution designates March 6, 2025, a...   \n",
       "806   2025-06-24T16:26:37Z  <p>This bill designates the community-based ou...   \n",
       "880   2025-06-16T15:17:11Z  <p><strong>Military Construction, Veterans Aff...   \n",
       "884   2025-06-16T13:42:01Z  <p><strong>One Big Beautiful Bill Act</strong>...   \n",
       "904   2025-06-13T14:03:58Z  <p><strong>Rescissions Act of 2025</strong></p...   \n",
       "960   2025-06-10T15:52:46Z  <p><strong>Benefits that Endure for Lifetimes ...   \n",
       "1071  2025-05-22T17:15:29Z  <p><strong>One Big Beautiful Bill Act</strong>...   \n",
       "1143  2025-05-23T20:34:40Z  <p><b>Protect Our Communities from DUIs Act</b...   \n",
       "1379  2025-05-06T16:58:09Z  <p>This joint resolution nullifies the final r...   \n",
       "1859  2025-03-28T15:10:11Z  <p>This joint resolution nullifies the final r...   \n",
       "2272  2025-03-04T17:08:42Z  <p>This joint resolution nullifies the final r...   \n",
       "2705  2025-01-27T14:02:08Z  <p>This joint resolution nullifies the rule ti...   \n",
       "\n",
       "                updateDate  versionCode  bill.congress  bill.number  \\\n",
       "29    2025-10-06T21:49:14Z           49            119            1   \n",
       "37    2025-10-03T13:57:42Z            0            119         4779   \n",
       "108   2025-09-22T14:57:54Z            7            119         5342   \n",
       "112   2025-09-22T12:35:46Z            7            119            1   \n",
       "147   2025-09-17T15:16:59Z            0            119          118   \n",
       "806   2025-06-24T16:26:43Z            0            119         2170   \n",
       "880   2025-06-16T15:19:43Z            0            119         3944   \n",
       "884   2025-06-16T14:04:44Z           53            119            1   \n",
       "904   2025-06-13T17:00:48Z            0            119            4   \n",
       "960   2025-06-10T15:53:36Z           53            119         1682   \n",
       "1071  2025-05-30T18:28:45Z            0            119            1   \n",
       "1143  2025-05-23T20:34:51Z            0            119          875   \n",
       "1379  2025-05-06T17:06:57Z            0            119           13   \n",
       "1859  2025-03-28T15:10:28Z            0            119           18   \n",
       "2272  2025-03-04T17:09:47Z            0            119           28   \n",
       "2705  2025-01-27T14:02:43Z            0            119           20   \n",
       "\n",
       "     bill.originChamber bill.originChamberCode  \\\n",
       "29                House                      H   \n",
       "37                House                      H   \n",
       "108               House                      H   \n",
       "112               House                      H   \n",
       "147              Senate                      S   \n",
       "806               House                      H   \n",
       "880               House                      H   \n",
       "884               House                      H   \n",
       "904               House                      H   \n",
       "960               House                      H   \n",
       "1071              House                      H   \n",
       "1143              House                      H   \n",
       "1379             Senate                      S   \n",
       "1859             Senate                      S   \n",
       "2272             Senate                      S   \n",
       "2705              House                      H   \n",
       "\n",
       "                                             bill.title bill.type  \\\n",
       "29                           One Big Beautiful Bill Act        HR   \n",
       "37    National Security, Department of State, and Re...        HR   \n",
       "108   Commerce, Justice, Science, and Related Agenci...        HR   \n",
       "112                          One Big Beautiful Bill Act        HR   \n",
       "147   A resolution designating March 6, 2025, as \"Na...      SRES   \n",
       "806   To name the Department of Veterans Affairs com...        HR   \n",
       "880   Military Construction and Veterans Affairs, Ag...        HR   \n",
       "884                          One Big Beautiful Bill Act        HR   \n",
       "904                             Rescissions Act of 2025        HR   \n",
       "960                                          BELO’S Act        HR   \n",
       "1071                         One Big Beautiful Bill Act        HR   \n",
       "1143  Jeremy and Angel Seay and Sergeant Brandon Men...        HR   \n",
       "1379  A joint resolution providing for congressional...     SJRES   \n",
       "1859  A joint resolution disapproving the rule submi...     SJRES   \n",
       "2272  A joint resolution disapproving the rule submi...     SJRES   \n",
       "2705  Providing for congressional disapproval under ...     HJRES   \n",
       "\n",
       "     bill.updateDateIncludingText  \\\n",
       "29                     2025-10-09   \n",
       "37                     2025-10-03   \n",
       "108                    2025-09-22   \n",
       "112                    2025-10-09   \n",
       "147                    2025-09-17   \n",
       "806                    2025-09-17   \n",
       "880                    2025-10-09   \n",
       "884                    2025-10-09   \n",
       "904                    2025-10-09   \n",
       "960                    2025-08-12   \n",
       "1071                   2025-10-09   \n",
       "1143                   2025-10-09   \n",
       "1379                   2025-10-09   \n",
       "1859                   2025-10-15   \n",
       "2272                   2025-10-14   \n",
       "2705                   2025-10-15   \n",
       "\n",
       "                                               bill.url  \n",
       "29    https://api.congress.gov/v3/bill/119/hr/1?form...  \n",
       "37    https://api.congress.gov/v3/bill/119/hr/4779?f...  \n",
       "108   https://api.congress.gov/v3/bill/119/hr/5342?f...  \n",
       "112   https://api.congress.gov/v3/bill/119/hr/1?form...  \n",
       "147   https://api.congress.gov/v3/bill/119/sres/118?...  \n",
       "806   https://api.congress.gov/v3/bill/119/hr/2170?f...  \n",
       "880   https://api.congress.gov/v3/bill/119/hr/3944?f...  \n",
       "884   https://api.congress.gov/v3/bill/119/hr/1?form...  \n",
       "904   https://api.congress.gov/v3/bill/119/hr/4?form...  \n",
       "960   https://api.congress.gov/v3/bill/119/hr/1682?f...  \n",
       "1071  https://api.congress.gov/v3/bill/119/hr/1?form...  \n",
       "1143  https://api.congress.gov/v3/bill/119/hr/875?fo...  \n",
       "1379  https://api.congress.gov/v3/bill/119/sjres/13?...  \n",
       "1859  https://api.congress.gov/v3/bill/119/sjres/18?...  \n",
       "2272  https://api.congress.gov/v3/bill/119/sjres/28?...  \n",
       "2705  https://api.congress.gov/v3/bill/119/hjres/20?...  "
      ]
     },
     "execution_count": 65,
     "metadata": {},
     "output_type": "execute_result"
    }
   ],
   "source": [
    "bill_summaries[bill_summaries[['bill.type', 'bill.number']].duplicated()]"
   ]
  },
  {
   "cell_type": "code",
   "execution_count": 66,
   "id": "43b7659f",
   "metadata": {},
   "outputs": [
    {
     "data": {
      "text/plain": [
       "False    2751\n",
       "Name: count, dtype: int64"
      ]
     },
     "execution_count": 66,
     "metadata": {},
     "output_type": "execute_result"
    }
   ],
   "source": [
    "bill_summaries[['bill.type', 'bill.number', 'versionCode']].duplicated().value_counts()"
   ]
  },
  {
   "cell_type": "code",
   "execution_count": 67,
   "id": "0bef5703",
   "metadata": {},
   "outputs": [
    {
     "data": {
      "text/plain": [
       "Index(['bioguide_id', 'Full name', 'Chamber', 'State', 'Party', 'District',\n",
       "       'birthYear', 'image', 'Office address', 'Phone', 'Website'],\n",
       "      dtype='object')"
      ]
     },
     "execution_count": 67,
     "metadata": {},
     "output_type": "execute_result"
    }
   ],
   "source": [
    "bioinfo.columns\n"
   ]
  },
  {
   "cell_type": "code",
   "execution_count": 68,
   "id": "7d5d714a",
   "metadata": {},
   "outputs": [
    {
     "data": {
      "text/plain": [
       "bioguide_id\n",
       "False    545\n",
       "Name: count, dtype: int64"
      ]
     },
     "execution_count": 68,
     "metadata": {},
     "output_type": "execute_result"
    }
   ],
   "source": [
    "bioinfo['bioguide_id'].duplicated().value_counts()"
   ]
  },
  {
   "cell_type": "code",
   "execution_count": 69,
   "id": "02d57933",
   "metadata": {},
   "outputs": [
    {
     "data": {
      "text/plain": [
       "bioguide_id\n",
       "False    545\n",
       "Name: count, dtype: int64"
      ]
     },
     "execution_count": 69,
     "metadata": {},
     "output_type": "execute_result"
    }
   ],
   "source": [
    "fec_ids['bioguide_id'].duplicated().value_counts()\n"
   ]
  },
  {
   "cell_type": "code",
   "execution_count": 70,
   "id": "ebbb1585",
   "metadata": {},
   "outputs": [
    {
     "data": {
      "text/plain": [
       "Index(['bioguide_id', 'fec_id'], dtype='object')"
      ]
     },
     "execution_count": 70,
     "metadata": {},
     "output_type": "execute_result"
    }
   ],
   "source": [
    "fec_ids.columns"
   ]
  },
  {
   "cell_type": "code",
   "execution_count": 75,
   "id": "42ba461e",
   "metadata": {},
   "outputs": [
    {
     "data": {
      "text/plain": [
       "Index(['bioname', 'chamber', 'left_right_ideology', 'state_abbrev',\n",
       "       'district_code', 'icpsr', 'bioguide_id', 'party'],\n",
       "      dtype='object')"
      ]
     },
     "execution_count": 75,
     "metadata": {},
     "output_type": "execute_result"
    }
   ],
   "source": [
    "ideology.columns\n"
   ]
  },
  {
   "cell_type": "code",
   "execution_count": 76,
   "id": "a35d503c",
   "metadata": {},
   "outputs": [
    {
     "data": {
      "text/plain": [
       "bioguide_id\n",
       "False    545\n",
       "Name: count, dtype: int64"
      ]
     },
     "execution_count": 76,
     "metadata": {},
     "output_type": "execute_result"
    }
   ],
   "source": [
    "ideology['bioguide_id'].duplicated().value_counts()"
   ]
  },
  {
   "cell_type": "code",
   "execution_count": null,
   "id": "05e47931",
   "metadata": {},
   "outputs": [
    {
     "data": {
      "text/plain": [
       "Index(['introducedDate', 'type', 'url', 'number', 'title', 'bioguide_id'], dtype='object')"
      ]
     },
     "execution_count": 72,
     "metadata": {},
     "output_type": "execute_result"
    }
   ],
   "source": [
    "sponsored_legislation.columns\n"
   ]
  },
  {
   "cell_type": "code",
   "execution_count": 77,
   "id": "8e0c79cc",
   "metadata": {},
   "outputs": [
    {
     "data": {
      "text/plain": [
       "bioguide_id\n",
       "True     13840\n",
       "False      539\n",
       "Name: count, dtype: int64"
      ]
     },
     "execution_count": 77,
     "metadata": {},
     "output_type": "execute_result"
    }
   ],
   "source": [
    "sponsored_legislation['bioguide_id'].duplicated().value_counts()"
   ]
  },
  {
   "cell_type": "code",
   "execution_count": 81,
   "id": "0d4a0b5f",
   "metadata": {},
   "outputs": [
    {
     "data": {
      "text/plain": [
       "False    14379\n",
       "Name: count, dtype: int64"
      ]
     },
     "execution_count": 81,
     "metadata": {},
     "output_type": "execute_result"
    }
   ],
   "source": [
    "sponsored_legislation[['url' ]].duplicated().value_counts()"
   ]
  },
  {
   "cell_type": "code",
   "execution_count": 82,
   "id": "c9f45842",
   "metadata": {},
   "outputs": [
    {
     "data": {
      "text/plain": [
       "Index(['bioguide_id', 'chamber', 'congress', 'stateCode', 'startYear',\n",
       "       'endYear', 'district'],\n",
       "      dtype='object')"
      ]
     },
     "execution_count": 82,
     "metadata": {},
     "output_type": "execute_result"
    }
   ],
   "source": [
    "terms.columns\n"
   ]
  },
  {
   "cell_type": "code",
   "execution_count": 86,
   "id": "01e2e0cd",
   "metadata": {},
   "outputs": [
    {
     "data": {
      "text/plain": [
       "False    3257\n",
       "Name: count, dtype: int64"
      ]
     },
     "execution_count": 86,
     "metadata": {},
     "output_type": "execute_result"
    }
   ],
   "source": [
    "terms[['bioguide_id','chamber', 'congress']].duplicated().value_counts()"
   ]
  },
  {
   "cell_type": "code",
   "execution_count": 83,
   "id": "d4e963ff",
   "metadata": {},
   "outputs": [
    {
     "data": {
      "text/plain": [
       "Index(['bioname', 'comparison_member', 'agree'], dtype='object')"
      ]
     },
     "execution_count": 83,
     "metadata": {},
     "output_type": "execute_result"
    }
   ],
   "source": [
    "vote_compare.columns"
   ]
  },
  {
   "cell_type": "code",
   "execution_count": 88,
   "id": "9b42d31e",
   "metadata": {},
   "outputs": [
    {
     "data": {
      "text/plain": [
       "False    206040\n",
       "Name: count, dtype: int64"
      ]
     },
     "execution_count": 88,
     "metadata": {},
     "output_type": "execute_result"
    }
   ],
   "source": [
    "vote_compare[['bioname', 'comparison_member']].duplicated().value_counts()"
   ]
  },
  {
   "cell_type": "markdown",
   "id": "6706564c",
   "metadata": {},
   "source": []
  }
 ],
 "metadata": {
  "kernelspec": {
   "display_name": "ds6600",
   "language": "python",
   "name": "python3"
  },
  "language_info": {
   "codemirror_mode": {
    "name": "ipython",
    "version": 3
   },
   "file_extension": ".py",
   "mimetype": "text/x-python",
   "name": "python",
   "nbconvert_exporter": "python",
   "pygments_lexer": "ipython3",
   "version": "3.13.5"
  }
 },
 "nbformat": 4,
 "nbformat_minor": 5
}
